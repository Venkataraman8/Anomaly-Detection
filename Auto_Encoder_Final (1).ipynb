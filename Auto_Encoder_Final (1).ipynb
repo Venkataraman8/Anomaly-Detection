{
  "nbformat": 4,
  "nbformat_minor": 0,
  "metadata": {
    "colab": {
      "name": "V Auto Encoder Final.ipynb",
      "provenance": [],
      "collapsed_sections": []
    },
    "kernelspec": {
      "name": "python3",
      "display_name": "Python 3"
    },
    "language_info": {
      "name": "python"
    }
  },
  "cells": [
    {
      "cell_type": "markdown",
      "metadata": {
        "id": "Bdn-wqYxm8CD"
      },
      "source": [
        "# Pre Processing"
      ]
    },
    {
      "cell_type": "code",
      "metadata": {
        "id": "Ws-8H1N1HU99"
      },
      "source": [
        "import numpy as np\n",
        "import pandas as pd"
      ],
      "execution_count": null,
      "outputs": []
    },
    {
      "cell_type": "code",
      "metadata": {
        "id": "SmH70HpeHbj7"
      },
      "source": [
        "col_names = [\"duration\",\"protocol_type\",\"service\",\"flag\",\"src_bytes\",\n",
        "    \"dst_bytes\",\"land\",\"wrong_fragment\",\"urgent\",\"hot\",\"num_failed_logins\",\n",
        "    \"logged_in\",\"num_compromised\",\"root_shell\",\"su_attempted\",\"num_root\",\n",
        "    \"num_file_creations\",\"num_shells\",\"num_access_files\",\"num_outbound_cmds\",\n",
        "    \"is_host_login\",\"is_guest_login\",\"count\",\"srv_count\",\"serror_rate\",\n",
        "    \"srv_serror_rate\",\"rerror_rate\",\"srv_rerror_rate\",\"same_srv_rate\",\n",
        "    \"diff_srv_rate\",\"srv_diff_host_rate\",\"dst_host_count\",\"dst_host_srv_count\",\n",
        "    \"dst_host_same_srv_rate\",\"dst_host_diff_srv_rate\",\"dst_host_same_src_port_rate\",\n",
        "    \"dst_host_srv_diff_host_rate\",\"dst_host_serror_rate\",\"dst_host_srv_serror_rate\",\n",
        "    \"dst_host_rerror_rate\",\"dst_host_srv_rerror_rate\",\"label\",\"difficulty_level\"]"
      ],
      "execution_count": null,
      "outputs": []
    },
    {
      "cell_type": "code",
      "metadata": {
        "colab": {
          "base_uri": "https://localhost:8080/"
        },
        "id": "rgm4cL_NHsml",
        "outputId": "a4651db2-ce97-43b0-91a8-f80d22682db5"
      },
      "source": [
        "from google.colab import drive\n",
        "drive.mount('/content/drive')\n"
      ],
      "execution_count": null,
      "outputs": [
        {
          "output_type": "stream",
          "name": "stdout",
          "text": [
            "Mounted at /content/drive\n"
          ]
        }
      ]
    },
    {
      "cell_type": "code",
      "metadata": {
        "id": "Q1wIL1IoIu0L"
      },
      "source": [
        "data = pd.read_csv(\"/content/drive/MyDrive/NSL-KDD/KDDTrain+.txt\",header=None, names=col_names)\n",
        "data_test = pd.read_csv(\"/content/drive/MyDrive/NSL-KDD/KDDTest+.txt\",header=None, names=col_names)\n"
      ],
      "execution_count": null,
      "outputs": []
    },
    {
      "cell_type": "code",
      "metadata": {
        "colab": {
          "base_uri": "https://localhost:8080/",
          "height": 443
        },
        "id": "eKFKqcbBI1Am",
        "outputId": "b8cdd87b-ae67-4847-8fa6-c1dec76c293e"
      },
      "source": [
        "data"
      ],
      "execution_count": null,
      "outputs": [
        {
          "output_type": "execute_result",
          "data": {
            "text/html": [
              "<div>\n",
              "<style scoped>\n",
              "    .dataframe tbody tr th:only-of-type {\n",
              "        vertical-align: middle;\n",
              "    }\n",
              "\n",
              "    .dataframe tbody tr th {\n",
              "        vertical-align: top;\n",
              "    }\n",
              "\n",
              "    .dataframe thead th {\n",
              "        text-align: right;\n",
              "    }\n",
              "</style>\n",
              "<table border=\"1\" class=\"dataframe\">\n",
              "  <thead>\n",
              "    <tr style=\"text-align: right;\">\n",
              "      <th></th>\n",
              "      <th>duration</th>\n",
              "      <th>protocol_type</th>\n",
              "      <th>service</th>\n",
              "      <th>flag</th>\n",
              "      <th>src_bytes</th>\n",
              "      <th>dst_bytes</th>\n",
              "      <th>land</th>\n",
              "      <th>wrong_fragment</th>\n",
              "      <th>urgent</th>\n",
              "      <th>hot</th>\n",
              "      <th>num_failed_logins</th>\n",
              "      <th>logged_in</th>\n",
              "      <th>num_compromised</th>\n",
              "      <th>root_shell</th>\n",
              "      <th>su_attempted</th>\n",
              "      <th>num_root</th>\n",
              "      <th>num_file_creations</th>\n",
              "      <th>num_shells</th>\n",
              "      <th>num_access_files</th>\n",
              "      <th>num_outbound_cmds</th>\n",
              "      <th>is_host_login</th>\n",
              "      <th>is_guest_login</th>\n",
              "      <th>count</th>\n",
              "      <th>srv_count</th>\n",
              "      <th>serror_rate</th>\n",
              "      <th>srv_serror_rate</th>\n",
              "      <th>rerror_rate</th>\n",
              "      <th>srv_rerror_rate</th>\n",
              "      <th>same_srv_rate</th>\n",
              "      <th>diff_srv_rate</th>\n",
              "      <th>srv_diff_host_rate</th>\n",
              "      <th>dst_host_count</th>\n",
              "      <th>dst_host_srv_count</th>\n",
              "      <th>dst_host_same_srv_rate</th>\n",
              "      <th>dst_host_diff_srv_rate</th>\n",
              "      <th>dst_host_same_src_port_rate</th>\n",
              "      <th>dst_host_srv_diff_host_rate</th>\n",
              "      <th>dst_host_serror_rate</th>\n",
              "      <th>dst_host_srv_serror_rate</th>\n",
              "      <th>dst_host_rerror_rate</th>\n",
              "      <th>dst_host_srv_rerror_rate</th>\n",
              "      <th>label</th>\n",
              "      <th>difficulty_level</th>\n",
              "    </tr>\n",
              "  </thead>\n",
              "  <tbody>\n",
              "    <tr>\n",
              "      <th>0</th>\n",
              "      <td>0</td>\n",
              "      <td>tcp</td>\n",
              "      <td>ftp_data</td>\n",
              "      <td>SF</td>\n",
              "      <td>491</td>\n",
              "      <td>0</td>\n",
              "      <td>0</td>\n",
              "      <td>0</td>\n",
              "      <td>0</td>\n",
              "      <td>0</td>\n",
              "      <td>0</td>\n",
              "      <td>0</td>\n",
              "      <td>0</td>\n",
              "      <td>0</td>\n",
              "      <td>0</td>\n",
              "      <td>0</td>\n",
              "      <td>0</td>\n",
              "      <td>0</td>\n",
              "      <td>0</td>\n",
              "      <td>0</td>\n",
              "      <td>0</td>\n",
              "      <td>0</td>\n",
              "      <td>2</td>\n",
              "      <td>2</td>\n",
              "      <td>0.0</td>\n",
              "      <td>0.0</td>\n",
              "      <td>0.0</td>\n",
              "      <td>0.0</td>\n",
              "      <td>1.00</td>\n",
              "      <td>0.00</td>\n",
              "      <td>0.00</td>\n",
              "      <td>150</td>\n",
              "      <td>25</td>\n",
              "      <td>0.17</td>\n",
              "      <td>0.03</td>\n",
              "      <td>0.17</td>\n",
              "      <td>0.00</td>\n",
              "      <td>0.00</td>\n",
              "      <td>0.00</td>\n",
              "      <td>0.05</td>\n",
              "      <td>0.00</td>\n",
              "      <td>normal</td>\n",
              "      <td>20</td>\n",
              "    </tr>\n",
              "    <tr>\n",
              "      <th>1</th>\n",
              "      <td>0</td>\n",
              "      <td>udp</td>\n",
              "      <td>other</td>\n",
              "      <td>SF</td>\n",
              "      <td>146</td>\n",
              "      <td>0</td>\n",
              "      <td>0</td>\n",
              "      <td>0</td>\n",
              "      <td>0</td>\n",
              "      <td>0</td>\n",
              "      <td>0</td>\n",
              "      <td>0</td>\n",
              "      <td>0</td>\n",
              "      <td>0</td>\n",
              "      <td>0</td>\n",
              "      <td>0</td>\n",
              "      <td>0</td>\n",
              "      <td>0</td>\n",
              "      <td>0</td>\n",
              "      <td>0</td>\n",
              "      <td>0</td>\n",
              "      <td>0</td>\n",
              "      <td>13</td>\n",
              "      <td>1</td>\n",
              "      <td>0.0</td>\n",
              "      <td>0.0</td>\n",
              "      <td>0.0</td>\n",
              "      <td>0.0</td>\n",
              "      <td>0.08</td>\n",
              "      <td>0.15</td>\n",
              "      <td>0.00</td>\n",
              "      <td>255</td>\n",
              "      <td>1</td>\n",
              "      <td>0.00</td>\n",
              "      <td>0.60</td>\n",
              "      <td>0.88</td>\n",
              "      <td>0.00</td>\n",
              "      <td>0.00</td>\n",
              "      <td>0.00</td>\n",
              "      <td>0.00</td>\n",
              "      <td>0.00</td>\n",
              "      <td>normal</td>\n",
              "      <td>15</td>\n",
              "    </tr>\n",
              "    <tr>\n",
              "      <th>2</th>\n",
              "      <td>0</td>\n",
              "      <td>tcp</td>\n",
              "      <td>private</td>\n",
              "      <td>S0</td>\n",
              "      <td>0</td>\n",
              "      <td>0</td>\n",
              "      <td>0</td>\n",
              "      <td>0</td>\n",
              "      <td>0</td>\n",
              "      <td>0</td>\n",
              "      <td>0</td>\n",
              "      <td>0</td>\n",
              "      <td>0</td>\n",
              "      <td>0</td>\n",
              "      <td>0</td>\n",
              "      <td>0</td>\n",
              "      <td>0</td>\n",
              "      <td>0</td>\n",
              "      <td>0</td>\n",
              "      <td>0</td>\n",
              "      <td>0</td>\n",
              "      <td>0</td>\n",
              "      <td>123</td>\n",
              "      <td>6</td>\n",
              "      <td>1.0</td>\n",
              "      <td>1.0</td>\n",
              "      <td>0.0</td>\n",
              "      <td>0.0</td>\n",
              "      <td>0.05</td>\n",
              "      <td>0.07</td>\n",
              "      <td>0.00</td>\n",
              "      <td>255</td>\n",
              "      <td>26</td>\n",
              "      <td>0.10</td>\n",
              "      <td>0.05</td>\n",
              "      <td>0.00</td>\n",
              "      <td>0.00</td>\n",
              "      <td>1.00</td>\n",
              "      <td>1.00</td>\n",
              "      <td>0.00</td>\n",
              "      <td>0.00</td>\n",
              "      <td>neptune</td>\n",
              "      <td>19</td>\n",
              "    </tr>\n",
              "    <tr>\n",
              "      <th>3</th>\n",
              "      <td>0</td>\n",
              "      <td>tcp</td>\n",
              "      <td>http</td>\n",
              "      <td>SF</td>\n",
              "      <td>232</td>\n",
              "      <td>8153</td>\n",
              "      <td>0</td>\n",
              "      <td>0</td>\n",
              "      <td>0</td>\n",
              "      <td>0</td>\n",
              "      <td>0</td>\n",
              "      <td>1</td>\n",
              "      <td>0</td>\n",
              "      <td>0</td>\n",
              "      <td>0</td>\n",
              "      <td>0</td>\n",
              "      <td>0</td>\n",
              "      <td>0</td>\n",
              "      <td>0</td>\n",
              "      <td>0</td>\n",
              "      <td>0</td>\n",
              "      <td>0</td>\n",
              "      <td>5</td>\n",
              "      <td>5</td>\n",
              "      <td>0.2</td>\n",
              "      <td>0.2</td>\n",
              "      <td>0.0</td>\n",
              "      <td>0.0</td>\n",
              "      <td>1.00</td>\n",
              "      <td>0.00</td>\n",
              "      <td>0.00</td>\n",
              "      <td>30</td>\n",
              "      <td>255</td>\n",
              "      <td>1.00</td>\n",
              "      <td>0.00</td>\n",
              "      <td>0.03</td>\n",
              "      <td>0.04</td>\n",
              "      <td>0.03</td>\n",
              "      <td>0.01</td>\n",
              "      <td>0.00</td>\n",
              "      <td>0.01</td>\n",
              "      <td>normal</td>\n",
              "      <td>21</td>\n",
              "    </tr>\n",
              "    <tr>\n",
              "      <th>4</th>\n",
              "      <td>0</td>\n",
              "      <td>tcp</td>\n",
              "      <td>http</td>\n",
              "      <td>SF</td>\n",
              "      <td>199</td>\n",
              "      <td>420</td>\n",
              "      <td>0</td>\n",
              "      <td>0</td>\n",
              "      <td>0</td>\n",
              "      <td>0</td>\n",
              "      <td>0</td>\n",
              "      <td>1</td>\n",
              "      <td>0</td>\n",
              "      <td>0</td>\n",
              "      <td>0</td>\n",
              "      <td>0</td>\n",
              "      <td>0</td>\n",
              "      <td>0</td>\n",
              "      <td>0</td>\n",
              "      <td>0</td>\n",
              "      <td>0</td>\n",
              "      <td>0</td>\n",
              "      <td>30</td>\n",
              "      <td>32</td>\n",
              "      <td>0.0</td>\n",
              "      <td>0.0</td>\n",
              "      <td>0.0</td>\n",
              "      <td>0.0</td>\n",
              "      <td>1.00</td>\n",
              "      <td>0.00</td>\n",
              "      <td>0.09</td>\n",
              "      <td>255</td>\n",
              "      <td>255</td>\n",
              "      <td>1.00</td>\n",
              "      <td>0.00</td>\n",
              "      <td>0.00</td>\n",
              "      <td>0.00</td>\n",
              "      <td>0.00</td>\n",
              "      <td>0.00</td>\n",
              "      <td>0.00</td>\n",
              "      <td>0.00</td>\n",
              "      <td>normal</td>\n",
              "      <td>21</td>\n",
              "    </tr>\n",
              "    <tr>\n",
              "      <th>...</th>\n",
              "      <td>...</td>\n",
              "      <td>...</td>\n",
              "      <td>...</td>\n",
              "      <td>...</td>\n",
              "      <td>...</td>\n",
              "      <td>...</td>\n",
              "      <td>...</td>\n",
              "      <td>...</td>\n",
              "      <td>...</td>\n",
              "      <td>...</td>\n",
              "      <td>...</td>\n",
              "      <td>...</td>\n",
              "      <td>...</td>\n",
              "      <td>...</td>\n",
              "      <td>...</td>\n",
              "      <td>...</td>\n",
              "      <td>...</td>\n",
              "      <td>...</td>\n",
              "      <td>...</td>\n",
              "      <td>...</td>\n",
              "      <td>...</td>\n",
              "      <td>...</td>\n",
              "      <td>...</td>\n",
              "      <td>...</td>\n",
              "      <td>...</td>\n",
              "      <td>...</td>\n",
              "      <td>...</td>\n",
              "      <td>...</td>\n",
              "      <td>...</td>\n",
              "      <td>...</td>\n",
              "      <td>...</td>\n",
              "      <td>...</td>\n",
              "      <td>...</td>\n",
              "      <td>...</td>\n",
              "      <td>...</td>\n",
              "      <td>...</td>\n",
              "      <td>...</td>\n",
              "      <td>...</td>\n",
              "      <td>...</td>\n",
              "      <td>...</td>\n",
              "      <td>...</td>\n",
              "      <td>...</td>\n",
              "      <td>...</td>\n",
              "    </tr>\n",
              "    <tr>\n",
              "      <th>125968</th>\n",
              "      <td>0</td>\n",
              "      <td>tcp</td>\n",
              "      <td>private</td>\n",
              "      <td>S0</td>\n",
              "      <td>0</td>\n",
              "      <td>0</td>\n",
              "      <td>0</td>\n",
              "      <td>0</td>\n",
              "      <td>0</td>\n",
              "      <td>0</td>\n",
              "      <td>0</td>\n",
              "      <td>0</td>\n",
              "      <td>0</td>\n",
              "      <td>0</td>\n",
              "      <td>0</td>\n",
              "      <td>0</td>\n",
              "      <td>0</td>\n",
              "      <td>0</td>\n",
              "      <td>0</td>\n",
              "      <td>0</td>\n",
              "      <td>0</td>\n",
              "      <td>0</td>\n",
              "      <td>184</td>\n",
              "      <td>25</td>\n",
              "      <td>1.0</td>\n",
              "      <td>1.0</td>\n",
              "      <td>0.0</td>\n",
              "      <td>0.0</td>\n",
              "      <td>0.14</td>\n",
              "      <td>0.06</td>\n",
              "      <td>0.00</td>\n",
              "      <td>255</td>\n",
              "      <td>25</td>\n",
              "      <td>0.10</td>\n",
              "      <td>0.06</td>\n",
              "      <td>0.00</td>\n",
              "      <td>0.00</td>\n",
              "      <td>1.00</td>\n",
              "      <td>1.00</td>\n",
              "      <td>0.00</td>\n",
              "      <td>0.00</td>\n",
              "      <td>neptune</td>\n",
              "      <td>20</td>\n",
              "    </tr>\n",
              "    <tr>\n",
              "      <th>125969</th>\n",
              "      <td>8</td>\n",
              "      <td>udp</td>\n",
              "      <td>private</td>\n",
              "      <td>SF</td>\n",
              "      <td>105</td>\n",
              "      <td>145</td>\n",
              "      <td>0</td>\n",
              "      <td>0</td>\n",
              "      <td>0</td>\n",
              "      <td>0</td>\n",
              "      <td>0</td>\n",
              "      <td>0</td>\n",
              "      <td>0</td>\n",
              "      <td>0</td>\n",
              "      <td>0</td>\n",
              "      <td>0</td>\n",
              "      <td>0</td>\n",
              "      <td>0</td>\n",
              "      <td>0</td>\n",
              "      <td>0</td>\n",
              "      <td>0</td>\n",
              "      <td>0</td>\n",
              "      <td>2</td>\n",
              "      <td>2</td>\n",
              "      <td>0.0</td>\n",
              "      <td>0.0</td>\n",
              "      <td>0.0</td>\n",
              "      <td>0.0</td>\n",
              "      <td>1.00</td>\n",
              "      <td>0.00</td>\n",
              "      <td>0.00</td>\n",
              "      <td>255</td>\n",
              "      <td>244</td>\n",
              "      <td>0.96</td>\n",
              "      <td>0.01</td>\n",
              "      <td>0.01</td>\n",
              "      <td>0.00</td>\n",
              "      <td>0.00</td>\n",
              "      <td>0.00</td>\n",
              "      <td>0.00</td>\n",
              "      <td>0.00</td>\n",
              "      <td>normal</td>\n",
              "      <td>21</td>\n",
              "    </tr>\n",
              "    <tr>\n",
              "      <th>125970</th>\n",
              "      <td>0</td>\n",
              "      <td>tcp</td>\n",
              "      <td>smtp</td>\n",
              "      <td>SF</td>\n",
              "      <td>2231</td>\n",
              "      <td>384</td>\n",
              "      <td>0</td>\n",
              "      <td>0</td>\n",
              "      <td>0</td>\n",
              "      <td>0</td>\n",
              "      <td>0</td>\n",
              "      <td>1</td>\n",
              "      <td>0</td>\n",
              "      <td>0</td>\n",
              "      <td>0</td>\n",
              "      <td>0</td>\n",
              "      <td>0</td>\n",
              "      <td>0</td>\n",
              "      <td>0</td>\n",
              "      <td>0</td>\n",
              "      <td>0</td>\n",
              "      <td>0</td>\n",
              "      <td>1</td>\n",
              "      <td>1</td>\n",
              "      <td>0.0</td>\n",
              "      <td>0.0</td>\n",
              "      <td>0.0</td>\n",
              "      <td>0.0</td>\n",
              "      <td>1.00</td>\n",
              "      <td>0.00</td>\n",
              "      <td>0.00</td>\n",
              "      <td>255</td>\n",
              "      <td>30</td>\n",
              "      <td>0.12</td>\n",
              "      <td>0.06</td>\n",
              "      <td>0.00</td>\n",
              "      <td>0.00</td>\n",
              "      <td>0.72</td>\n",
              "      <td>0.00</td>\n",
              "      <td>0.01</td>\n",
              "      <td>0.00</td>\n",
              "      <td>normal</td>\n",
              "      <td>18</td>\n",
              "    </tr>\n",
              "    <tr>\n",
              "      <th>125971</th>\n",
              "      <td>0</td>\n",
              "      <td>tcp</td>\n",
              "      <td>klogin</td>\n",
              "      <td>S0</td>\n",
              "      <td>0</td>\n",
              "      <td>0</td>\n",
              "      <td>0</td>\n",
              "      <td>0</td>\n",
              "      <td>0</td>\n",
              "      <td>0</td>\n",
              "      <td>0</td>\n",
              "      <td>0</td>\n",
              "      <td>0</td>\n",
              "      <td>0</td>\n",
              "      <td>0</td>\n",
              "      <td>0</td>\n",
              "      <td>0</td>\n",
              "      <td>0</td>\n",
              "      <td>0</td>\n",
              "      <td>0</td>\n",
              "      <td>0</td>\n",
              "      <td>0</td>\n",
              "      <td>144</td>\n",
              "      <td>8</td>\n",
              "      <td>1.0</td>\n",
              "      <td>1.0</td>\n",
              "      <td>0.0</td>\n",
              "      <td>0.0</td>\n",
              "      <td>0.06</td>\n",
              "      <td>0.05</td>\n",
              "      <td>0.00</td>\n",
              "      <td>255</td>\n",
              "      <td>8</td>\n",
              "      <td>0.03</td>\n",
              "      <td>0.05</td>\n",
              "      <td>0.00</td>\n",
              "      <td>0.00</td>\n",
              "      <td>1.00</td>\n",
              "      <td>1.00</td>\n",
              "      <td>0.00</td>\n",
              "      <td>0.00</td>\n",
              "      <td>neptune</td>\n",
              "      <td>20</td>\n",
              "    </tr>\n",
              "    <tr>\n",
              "      <th>125972</th>\n",
              "      <td>0</td>\n",
              "      <td>tcp</td>\n",
              "      <td>ftp_data</td>\n",
              "      <td>SF</td>\n",
              "      <td>151</td>\n",
              "      <td>0</td>\n",
              "      <td>0</td>\n",
              "      <td>0</td>\n",
              "      <td>0</td>\n",
              "      <td>0</td>\n",
              "      <td>0</td>\n",
              "      <td>1</td>\n",
              "      <td>0</td>\n",
              "      <td>0</td>\n",
              "      <td>0</td>\n",
              "      <td>0</td>\n",
              "      <td>0</td>\n",
              "      <td>0</td>\n",
              "      <td>0</td>\n",
              "      <td>0</td>\n",
              "      <td>0</td>\n",
              "      <td>0</td>\n",
              "      <td>1</td>\n",
              "      <td>1</td>\n",
              "      <td>0.0</td>\n",
              "      <td>0.0</td>\n",
              "      <td>0.0</td>\n",
              "      <td>0.0</td>\n",
              "      <td>1.00</td>\n",
              "      <td>0.00</td>\n",
              "      <td>0.00</td>\n",
              "      <td>255</td>\n",
              "      <td>77</td>\n",
              "      <td>0.30</td>\n",
              "      <td>0.03</td>\n",
              "      <td>0.30</td>\n",
              "      <td>0.00</td>\n",
              "      <td>0.00</td>\n",
              "      <td>0.00</td>\n",
              "      <td>0.00</td>\n",
              "      <td>0.00</td>\n",
              "      <td>normal</td>\n",
              "      <td>21</td>\n",
              "    </tr>\n",
              "  </tbody>\n",
              "</table>\n",
              "<p>125973 rows × 43 columns</p>\n",
              "</div>"
            ],
            "text/plain": [
              "        duration protocol_type  ...    label difficulty_level\n",
              "0              0           tcp  ...   normal               20\n",
              "1              0           udp  ...   normal               15\n",
              "2              0           tcp  ...  neptune               19\n",
              "3              0           tcp  ...   normal               21\n",
              "4              0           tcp  ...   normal               21\n",
              "...          ...           ...  ...      ...              ...\n",
              "125968         0           tcp  ...  neptune               20\n",
              "125969         8           udp  ...   normal               21\n",
              "125970         0           tcp  ...   normal               18\n",
              "125971         0           tcp  ...  neptune               20\n",
              "125972         0           tcp  ...   normal               21\n",
              "\n",
              "[125973 rows x 43 columns]"
            ]
          },
          "metadata": {},
          "execution_count": 5
        }
      ]
    },
    {
      "cell_type": "code",
      "metadata": {
        "colab": {
          "base_uri": "https://localhost:8080/"
        },
        "id": "WXZVo6siI8-T",
        "outputId": "2a9a39f4-c2b2-4230-b4e9-410112c57b88"
      },
      "source": [
        "data.drop(['difficulty_level'],axis=1,inplace=True)\n",
        "data_test.drop(['difficulty_level'],axis=1,inplace=True)\n",
        "data.shape"
      ],
      "execution_count": null,
      "outputs": [
        {
          "output_type": "execute_result",
          "data": {
            "text/plain": [
              "(125973, 42)"
            ]
          },
          "metadata": {},
          "execution_count": 6
        }
      ]
    },
    {
      "cell_type": "code",
      "metadata": {
        "colab": {
          "base_uri": "https://localhost:8080/"
        },
        "id": "fBXszVvVJBQa",
        "outputId": "98962a63-2451-46da-9b1b-3823c3977827"
      },
      "source": [
        "data['label'].value_counts()\n",
        "data_test['label'].value_counts()"
      ],
      "execution_count": null,
      "outputs": [
        {
          "output_type": "execute_result",
          "data": {
            "text/plain": [
              "normal             9711\n",
              "neptune            4657\n",
              "guess_passwd       1231\n",
              "mscan               996\n",
              "warezmaster         944\n",
              "apache2             737\n",
              "satan               735\n",
              "processtable        685\n",
              "smurf               665\n",
              "back                359\n",
              "snmpguess           331\n",
              "saint               319\n",
              "mailbomb            293\n",
              "snmpgetattack       178\n",
              "portsweep           157\n",
              "ipsweep             141\n",
              "httptunnel          133\n",
              "nmap                 73\n",
              "pod                  41\n",
              "buffer_overflow      20\n",
              "multihop             18\n",
              "named                17\n",
              "ps                   15\n",
              "sendmail             14\n",
              "xterm                13\n",
              "rootkit              13\n",
              "teardrop             12\n",
              "xlock                 9\n",
              "land                  7\n",
              "xsnoop                4\n",
              "ftp_write             3\n",
              "perl                  2\n",
              "phf                   2\n",
              "loadmodule            2\n",
              "worm                  2\n",
              "sqlattack             2\n",
              "udpstorm              2\n",
              "imap                  1\n",
              "Name: label, dtype: int64"
            ]
          },
          "metadata": {},
          "execution_count": 7
        }
      ]
    },
    {
      "cell_type": "code",
      "metadata": {
        "id": "CliMfb4pJM7-"
      },
      "source": [
        "def change_label(df):\n",
        "  df.label.replace(['apache2','back','land','neptune','mailbomb','pod','processtable','smurf','teardrop','udpstorm','worm'],'Dos',inplace=True)\n",
        "  df.label.replace(['ftp_write','guess_passwd','httptunnel','imap','multihop','named','phf','sendmail',\n",
        "       'snmpgetattack','snmpguess','spy','warezclient','warezmaster','xlock','xsnoop'],'R2L',inplace=True)\n",
        "  df.label.replace(['ipsweep','mscan','nmap','portsweep','saint','satan'],'Probe',inplace=True)\n",
        "  df.label.replace(['buffer_overflow','loadmodule','perl','ps','rootkit','sqlattack','xterm'],'U2R',inplace=True)"
      ],
      "execution_count": null,
      "outputs": []
    },
    {
      "cell_type": "code",
      "metadata": {
        "id": "QyQQ_4P-JQ2U"
      },
      "source": [
        "change_label(data)\n",
        "change_label(data_test)"
      ],
      "execution_count": null,
      "outputs": []
    },
    {
      "cell_type": "code",
      "metadata": {
        "colab": {
          "base_uri": "https://localhost:8080/"
        },
        "id": "2rDA36RzJTga",
        "outputId": "cd7c6cc2-d753-428e-c684-e5ba7d9c2295"
      },
      "source": [
        "data.label.value_counts()"
      ],
      "execution_count": null,
      "outputs": [
        {
          "output_type": "execute_result",
          "data": {
            "text/plain": [
              "normal    67343\n",
              "Dos       45927\n",
              "Probe     11656\n",
              "R2L         995\n",
              "U2R          52\n",
              "Name: label, dtype: int64"
            ]
          },
          "metadata": {},
          "execution_count": 10
        }
      ]
    },
    {
      "cell_type": "code",
      "metadata": {
        "colab": {
          "base_uri": "https://localhost:8080/"
        },
        "id": "kpPuSP7jhwqu",
        "outputId": "77befb10-08b1-43e4-f4d0-9526918b5470"
      },
      "source": [
        "data_test.label.value_counts()"
      ],
      "execution_count": null,
      "outputs": [
        {
          "output_type": "execute_result",
          "data": {
            "text/plain": [
              "normal    9711\n",
              "Dos       7460\n",
              "R2L       2885\n",
              "Probe     2421\n",
              "U2R         67\n",
              "Name: label, dtype: int64"
            ]
          },
          "metadata": {},
          "execution_count": 11
        }
      ]
    },
    {
      "cell_type": "code",
      "metadata": {
        "id": "T7oaNg1H2_9t"
      },
      "source": [
        "data.label.replace({\"normal\":0, \"Dos\":1, \"Probe\":1, \"R2L\":1, \"U2R\":1}, inplace=True)\n",
        "data_test.label.replace({\"normal\":0, \"Dos\":1, \"Probe\":1, \"R2L\":1, \"U2R\":1}, inplace=True)"
      ],
      "execution_count": null,
      "outputs": []
    },
    {
      "cell_type": "code",
      "metadata": {
        "colab": {
          "base_uri": "https://localhost:8080/",
          "height": 226
        },
        "id": "mLxHev4CJil3",
        "outputId": "355aeecb-bc46-417f-c0fe-d3a303ea29e3"
      },
      "source": [
        "data.head()"
      ],
      "execution_count": null,
      "outputs": [
        {
          "output_type": "execute_result",
          "data": {
            "text/html": [
              "<div>\n",
              "<style scoped>\n",
              "    .dataframe tbody tr th:only-of-type {\n",
              "        vertical-align: middle;\n",
              "    }\n",
              "\n",
              "    .dataframe tbody tr th {\n",
              "        vertical-align: top;\n",
              "    }\n",
              "\n",
              "    .dataframe thead th {\n",
              "        text-align: right;\n",
              "    }\n",
              "</style>\n",
              "<table border=\"1\" class=\"dataframe\">\n",
              "  <thead>\n",
              "    <tr style=\"text-align: right;\">\n",
              "      <th></th>\n",
              "      <th>duration</th>\n",
              "      <th>protocol_type</th>\n",
              "      <th>service</th>\n",
              "      <th>flag</th>\n",
              "      <th>src_bytes</th>\n",
              "      <th>dst_bytes</th>\n",
              "      <th>land</th>\n",
              "      <th>wrong_fragment</th>\n",
              "      <th>urgent</th>\n",
              "      <th>hot</th>\n",
              "      <th>num_failed_logins</th>\n",
              "      <th>logged_in</th>\n",
              "      <th>num_compromised</th>\n",
              "      <th>root_shell</th>\n",
              "      <th>su_attempted</th>\n",
              "      <th>num_root</th>\n",
              "      <th>num_file_creations</th>\n",
              "      <th>num_shells</th>\n",
              "      <th>num_access_files</th>\n",
              "      <th>num_outbound_cmds</th>\n",
              "      <th>is_host_login</th>\n",
              "      <th>is_guest_login</th>\n",
              "      <th>count</th>\n",
              "      <th>srv_count</th>\n",
              "      <th>serror_rate</th>\n",
              "      <th>srv_serror_rate</th>\n",
              "      <th>rerror_rate</th>\n",
              "      <th>srv_rerror_rate</th>\n",
              "      <th>same_srv_rate</th>\n",
              "      <th>diff_srv_rate</th>\n",
              "      <th>srv_diff_host_rate</th>\n",
              "      <th>dst_host_count</th>\n",
              "      <th>dst_host_srv_count</th>\n",
              "      <th>dst_host_same_srv_rate</th>\n",
              "      <th>dst_host_diff_srv_rate</th>\n",
              "      <th>dst_host_same_src_port_rate</th>\n",
              "      <th>dst_host_srv_diff_host_rate</th>\n",
              "      <th>dst_host_serror_rate</th>\n",
              "      <th>dst_host_srv_serror_rate</th>\n",
              "      <th>dst_host_rerror_rate</th>\n",
              "      <th>dst_host_srv_rerror_rate</th>\n",
              "      <th>label</th>\n",
              "    </tr>\n",
              "  </thead>\n",
              "  <tbody>\n",
              "    <tr>\n",
              "      <th>0</th>\n",
              "      <td>0</td>\n",
              "      <td>tcp</td>\n",
              "      <td>ftp_data</td>\n",
              "      <td>SF</td>\n",
              "      <td>491</td>\n",
              "      <td>0</td>\n",
              "      <td>0</td>\n",
              "      <td>0</td>\n",
              "      <td>0</td>\n",
              "      <td>0</td>\n",
              "      <td>0</td>\n",
              "      <td>0</td>\n",
              "      <td>0</td>\n",
              "      <td>0</td>\n",
              "      <td>0</td>\n",
              "      <td>0</td>\n",
              "      <td>0</td>\n",
              "      <td>0</td>\n",
              "      <td>0</td>\n",
              "      <td>0</td>\n",
              "      <td>0</td>\n",
              "      <td>0</td>\n",
              "      <td>2</td>\n",
              "      <td>2</td>\n",
              "      <td>0.0</td>\n",
              "      <td>0.0</td>\n",
              "      <td>0.0</td>\n",
              "      <td>0.0</td>\n",
              "      <td>1.00</td>\n",
              "      <td>0.00</td>\n",
              "      <td>0.00</td>\n",
              "      <td>150</td>\n",
              "      <td>25</td>\n",
              "      <td>0.17</td>\n",
              "      <td>0.03</td>\n",
              "      <td>0.17</td>\n",
              "      <td>0.00</td>\n",
              "      <td>0.00</td>\n",
              "      <td>0.00</td>\n",
              "      <td>0.05</td>\n",
              "      <td>0.00</td>\n",
              "      <td>0</td>\n",
              "    </tr>\n",
              "    <tr>\n",
              "      <th>1</th>\n",
              "      <td>0</td>\n",
              "      <td>udp</td>\n",
              "      <td>other</td>\n",
              "      <td>SF</td>\n",
              "      <td>146</td>\n",
              "      <td>0</td>\n",
              "      <td>0</td>\n",
              "      <td>0</td>\n",
              "      <td>0</td>\n",
              "      <td>0</td>\n",
              "      <td>0</td>\n",
              "      <td>0</td>\n",
              "      <td>0</td>\n",
              "      <td>0</td>\n",
              "      <td>0</td>\n",
              "      <td>0</td>\n",
              "      <td>0</td>\n",
              "      <td>0</td>\n",
              "      <td>0</td>\n",
              "      <td>0</td>\n",
              "      <td>0</td>\n",
              "      <td>0</td>\n",
              "      <td>13</td>\n",
              "      <td>1</td>\n",
              "      <td>0.0</td>\n",
              "      <td>0.0</td>\n",
              "      <td>0.0</td>\n",
              "      <td>0.0</td>\n",
              "      <td>0.08</td>\n",
              "      <td>0.15</td>\n",
              "      <td>0.00</td>\n",
              "      <td>255</td>\n",
              "      <td>1</td>\n",
              "      <td>0.00</td>\n",
              "      <td>0.60</td>\n",
              "      <td>0.88</td>\n",
              "      <td>0.00</td>\n",
              "      <td>0.00</td>\n",
              "      <td>0.00</td>\n",
              "      <td>0.00</td>\n",
              "      <td>0.00</td>\n",
              "      <td>0</td>\n",
              "    </tr>\n",
              "    <tr>\n",
              "      <th>2</th>\n",
              "      <td>0</td>\n",
              "      <td>tcp</td>\n",
              "      <td>private</td>\n",
              "      <td>S0</td>\n",
              "      <td>0</td>\n",
              "      <td>0</td>\n",
              "      <td>0</td>\n",
              "      <td>0</td>\n",
              "      <td>0</td>\n",
              "      <td>0</td>\n",
              "      <td>0</td>\n",
              "      <td>0</td>\n",
              "      <td>0</td>\n",
              "      <td>0</td>\n",
              "      <td>0</td>\n",
              "      <td>0</td>\n",
              "      <td>0</td>\n",
              "      <td>0</td>\n",
              "      <td>0</td>\n",
              "      <td>0</td>\n",
              "      <td>0</td>\n",
              "      <td>0</td>\n",
              "      <td>123</td>\n",
              "      <td>6</td>\n",
              "      <td>1.0</td>\n",
              "      <td>1.0</td>\n",
              "      <td>0.0</td>\n",
              "      <td>0.0</td>\n",
              "      <td>0.05</td>\n",
              "      <td>0.07</td>\n",
              "      <td>0.00</td>\n",
              "      <td>255</td>\n",
              "      <td>26</td>\n",
              "      <td>0.10</td>\n",
              "      <td>0.05</td>\n",
              "      <td>0.00</td>\n",
              "      <td>0.00</td>\n",
              "      <td>1.00</td>\n",
              "      <td>1.00</td>\n",
              "      <td>0.00</td>\n",
              "      <td>0.00</td>\n",
              "      <td>1</td>\n",
              "    </tr>\n",
              "    <tr>\n",
              "      <th>3</th>\n",
              "      <td>0</td>\n",
              "      <td>tcp</td>\n",
              "      <td>http</td>\n",
              "      <td>SF</td>\n",
              "      <td>232</td>\n",
              "      <td>8153</td>\n",
              "      <td>0</td>\n",
              "      <td>0</td>\n",
              "      <td>0</td>\n",
              "      <td>0</td>\n",
              "      <td>0</td>\n",
              "      <td>1</td>\n",
              "      <td>0</td>\n",
              "      <td>0</td>\n",
              "      <td>0</td>\n",
              "      <td>0</td>\n",
              "      <td>0</td>\n",
              "      <td>0</td>\n",
              "      <td>0</td>\n",
              "      <td>0</td>\n",
              "      <td>0</td>\n",
              "      <td>0</td>\n",
              "      <td>5</td>\n",
              "      <td>5</td>\n",
              "      <td>0.2</td>\n",
              "      <td>0.2</td>\n",
              "      <td>0.0</td>\n",
              "      <td>0.0</td>\n",
              "      <td>1.00</td>\n",
              "      <td>0.00</td>\n",
              "      <td>0.00</td>\n",
              "      <td>30</td>\n",
              "      <td>255</td>\n",
              "      <td>1.00</td>\n",
              "      <td>0.00</td>\n",
              "      <td>0.03</td>\n",
              "      <td>0.04</td>\n",
              "      <td>0.03</td>\n",
              "      <td>0.01</td>\n",
              "      <td>0.00</td>\n",
              "      <td>0.01</td>\n",
              "      <td>0</td>\n",
              "    </tr>\n",
              "    <tr>\n",
              "      <th>4</th>\n",
              "      <td>0</td>\n",
              "      <td>tcp</td>\n",
              "      <td>http</td>\n",
              "      <td>SF</td>\n",
              "      <td>199</td>\n",
              "      <td>420</td>\n",
              "      <td>0</td>\n",
              "      <td>0</td>\n",
              "      <td>0</td>\n",
              "      <td>0</td>\n",
              "      <td>0</td>\n",
              "      <td>1</td>\n",
              "      <td>0</td>\n",
              "      <td>0</td>\n",
              "      <td>0</td>\n",
              "      <td>0</td>\n",
              "      <td>0</td>\n",
              "      <td>0</td>\n",
              "      <td>0</td>\n",
              "      <td>0</td>\n",
              "      <td>0</td>\n",
              "      <td>0</td>\n",
              "      <td>30</td>\n",
              "      <td>32</td>\n",
              "      <td>0.0</td>\n",
              "      <td>0.0</td>\n",
              "      <td>0.0</td>\n",
              "      <td>0.0</td>\n",
              "      <td>1.00</td>\n",
              "      <td>0.00</td>\n",
              "      <td>0.09</td>\n",
              "      <td>255</td>\n",
              "      <td>255</td>\n",
              "      <td>1.00</td>\n",
              "      <td>0.00</td>\n",
              "      <td>0.00</td>\n",
              "      <td>0.00</td>\n",
              "      <td>0.00</td>\n",
              "      <td>0.00</td>\n",
              "      <td>0.00</td>\n",
              "      <td>0.00</td>\n",
              "      <td>0</td>\n",
              "    </tr>\n",
              "  </tbody>\n",
              "</table>\n",
              "</div>"
            ],
            "text/plain": [
              "   duration protocol_type  ... dst_host_srv_rerror_rate label\n",
              "0         0           tcp  ...                     0.00     0\n",
              "1         0           udp  ...                     0.00     0\n",
              "2         0           tcp  ...                     0.00     1\n",
              "3         0           tcp  ...                     0.01     0\n",
              "4         0           tcp  ...                     0.00     0\n",
              "\n",
              "[5 rows x 42 columns]"
            ]
          },
          "metadata": {},
          "execution_count": 13
        }
      ]
    },
    {
      "cell_type": "markdown",
      "metadata": {
        "id": "qUJyQkr23W-b"
      },
      "source": [
        "# Encoding"
      ]
    },
    {
      "cell_type": "code",
      "metadata": {
        "colab": {
          "base_uri": "https://localhost:8080/"
        },
        "id": "56apNWWI3wVS",
        "outputId": "f0613014-06f7-46c9-bb72-2263da86ea8c"
      },
      "source": [
        "pip install --upgrade category_encoders"
      ],
      "execution_count": null,
      "outputs": [
        {
          "output_type": "stream",
          "name": "stdout",
          "text": [
            "Collecting category_encoders\n",
            "  Downloading category_encoders-2.2.2-py2.py3-none-any.whl (80 kB)\n",
            "\u001b[?25l\r\u001b[K     |████                            | 10 kB 26.6 MB/s eta 0:00:01\r\u001b[K     |████████▏                       | 20 kB 33.7 MB/s eta 0:00:01\r\u001b[K     |████████████▏                   | 30 kB 39.8 MB/s eta 0:00:01\r\u001b[K     |████████████████▎               | 40 kB 29.8 MB/s eta 0:00:01\r\u001b[K     |████████████████████▎           | 51 kB 17.6 MB/s eta 0:00:01\r\u001b[K     |████████████████████████▍       | 61 kB 19.0 MB/s eta 0:00:01\r\u001b[K     |████████████████████████████▍   | 71 kB 13.9 MB/s eta 0:00:01\r\u001b[K     |████████████████████████████████| 80 kB 6.9 MB/s \n",
            "\u001b[?25hRequirement already satisfied: statsmodels>=0.9.0 in /usr/local/lib/python3.7/dist-packages (from category_encoders) (0.10.2)\n",
            "Requirement already satisfied: patsy>=0.5.1 in /usr/local/lib/python3.7/dist-packages (from category_encoders) (0.5.1)\n",
            "Requirement already satisfied: scipy>=1.0.0 in /usr/local/lib/python3.7/dist-packages (from category_encoders) (1.4.1)\n",
            "Requirement already satisfied: pandas>=0.21.1 in /usr/local/lib/python3.7/dist-packages (from category_encoders) (1.1.5)\n",
            "Requirement already satisfied: scikit-learn>=0.20.0 in /usr/local/lib/python3.7/dist-packages (from category_encoders) (0.22.2.post1)\n",
            "Requirement already satisfied: numpy>=1.14.0 in /usr/local/lib/python3.7/dist-packages (from category_encoders) (1.19.5)\n",
            "Requirement already satisfied: python-dateutil>=2.7.3 in /usr/local/lib/python3.7/dist-packages (from pandas>=0.21.1->category_encoders) (2.8.2)\n",
            "Requirement already satisfied: pytz>=2017.2 in /usr/local/lib/python3.7/dist-packages (from pandas>=0.21.1->category_encoders) (2018.9)\n",
            "Requirement already satisfied: six in /usr/local/lib/python3.7/dist-packages (from patsy>=0.5.1->category_encoders) (1.15.0)\n",
            "Requirement already satisfied: joblib>=0.11 in /usr/local/lib/python3.7/dist-packages (from scikit-learn>=0.20.0->category_encoders) (1.0.1)\n",
            "Installing collected packages: category-encoders\n",
            "Successfully installed category-encoders-2.2.2\n"
          ]
        }
      ]
    },
    {
      "cell_type": "code",
      "metadata": {
        "id": "vI176eYq3ch8",
        "colab": {
          "base_uri": "https://localhost:8080/"
        },
        "outputId": "971ab991-3ff6-446e-ae58-9adef83c348e"
      },
      "source": [
        "import category_encoders\n",
        "from category_encoders import LeaveOneOutEncoder"
      ],
      "execution_count": null,
      "outputs": [
        {
          "output_type": "stream",
          "name": "stderr",
          "text": [
            "/usr/local/lib/python3.7/dist-packages/statsmodels/tools/_testing.py:19: FutureWarning: pandas.util.testing is deprecated. Use the functions in the public API at pandas.testing instead.\n",
            "  import pandas.util.testing as tm\n"
          ]
        }
      ]
    },
    {
      "cell_type": "code",
      "metadata": {
        "colab": {
          "base_uri": "https://localhost:8080/"
        },
        "id": "WuoV43vE30fR",
        "outputId": "5464b45d-a833-4eb4-a533-174f510aa03a"
      },
      "source": [
        "features = [\"protocol_type\", \"service\", \"flag\"]\n",
        "targ_enc = LeaveOneOutEncoder(cols=features)\n",
        "targ_enc.fit(data[features], data['label'])\n",
        "    \n",
        "data = data.join(targ_enc.transform(data[features]).add_suffix('_targ'))\n",
        "data_test = data_test.join(targ_enc.transform(data_test[features]).add_suffix('_targ'))\n",
        "    \n",
        "newdata = data.drop(features, axis=1)\n",
        "newdata_test = data_test.drop(features, axis=1)"
      ],
      "execution_count": null,
      "outputs": [
        {
          "output_type": "stream",
          "name": "stderr",
          "text": [
            "/usr/local/lib/python3.7/dist-packages/category_encoders/utils.py:21: FutureWarning: is_categorical is deprecated and will be removed in a future version.  Use is_categorical_dtype instead\n",
            "  elif pd.api.types.is_categorical(cols):\n"
          ]
        }
      ]
    },
    {
      "cell_type": "code",
      "metadata": {
        "colab": {
          "base_uri": "https://localhost:8080/"
        },
        "id": "t3agy5Lo5_BF",
        "outputId": "a4a8c3c6-4114-4b70-e698-8fadd290ef27"
      },
      "source": [
        "newdata.shape"
      ],
      "execution_count": null,
      "outputs": [
        {
          "output_type": "execute_result",
          "data": {
            "text/plain": [
              "(125973, 42)"
            ]
          },
          "metadata": {},
          "execution_count": 17
        }
      ]
    },
    {
      "cell_type": "markdown",
      "metadata": {
        "id": "jrTv-VMi7BIY"
      },
      "source": [
        "# Scaling"
      ]
    },
    {
      "cell_type": "code",
      "metadata": {
        "id": "91OzZi_o7EQZ"
      },
      "source": [
        "from sklearn import preprocessing\n",
        "from sklearn.preprocessing import RobustScaler"
      ],
      "execution_count": null,
      "outputs": []
    },
    {
      "cell_type": "code",
      "metadata": {
        "id": "Itl870rc7Ary"
      },
      "source": [
        "numeric_col = newdata.select_dtypes(include='number').columns"
      ],
      "execution_count": null,
      "outputs": []
    },
    {
      "cell_type": "code",
      "metadata": {
        "id": "ZQPGU8K77K0g"
      },
      "source": [
        "rbs_scaler = RobustScaler()\n",
        "for i in numeric_col:\n",
        "    arr = newdata[i]\n",
        "    arr = np.array(arr)\n",
        "    newdata[i] = rbs_scaler.fit_transform(arr.reshape(len(arr),1))\n",
        "    arr2 = newdata_test[i]\n",
        "    arr2 = np.array(arr2)\n",
        "    newdata_test[i] = rbs_scaler.transform(arr2.reshape(len(arr2),1))"
      ],
      "execution_count": null,
      "outputs": []
    },
    {
      "cell_type": "markdown",
      "metadata": {
        "id": "pzCx0so2nETX"
      },
      "source": [
        "# X Y Dataset "
      ]
    },
    {
      "cell_type": "code",
      "metadata": {
        "id": "VWC4D6d4nJdo"
      },
      "source": [
        "Y_train = newdata.label\n",
        "X_train = newdata.drop(\"label\",1)\n",
        "Y_test = newdata_test.label\n",
        "X_test = newdata_test.drop(\"label\",1)"
      ],
      "execution_count": null,
      "outputs": []
    },
    {
      "cell_type": "code",
      "metadata": {
        "colab": {
          "base_uri": "https://localhost:8080/"
        },
        "id": "T6Sb6eDWtaN5",
        "outputId": "6e11fc84-ca62-4212-f3c8-13081eb7cb06"
      },
      "source": [
        "X_train.shape"
      ],
      "execution_count": null,
      "outputs": [
        {
          "output_type": "execute_result",
          "data": {
            "text/plain": [
              "(125973, 41)"
            ]
          },
          "metadata": {},
          "execution_count": 22
        }
      ]
    },
    {
      "cell_type": "code",
      "metadata": {
        "colab": {
          "base_uri": "https://localhost:8080/"
        },
        "id": "wORVxNbKtdWr",
        "outputId": "ce424a03-438e-43cf-e145-e6ff0fc5b65c"
      },
      "source": [
        "Y_train.shape"
      ],
      "execution_count": null,
      "outputs": [
        {
          "output_type": "execute_result",
          "data": {
            "text/plain": [
              "(125973,)"
            ]
          },
          "metadata": {},
          "execution_count": 23
        }
      ]
    },
    {
      "cell_type": "code",
      "metadata": {
        "colab": {
          "base_uri": "https://localhost:8080/"
        },
        "id": "wlB9gCnQwyv7",
        "outputId": "3396a58b-ee3e-483f-ba94-55a916244b05"
      },
      "source": [
        "Y_train.head()"
      ],
      "execution_count": null,
      "outputs": [
        {
          "output_type": "execute_result",
          "data": {
            "text/plain": [
              "0    0.0\n",
              "1    0.0\n",
              "2    1.0\n",
              "3    0.0\n",
              "4    0.0\n",
              "Name: label, dtype: float64"
            ]
          },
          "metadata": {},
          "execution_count": 24
        }
      ]
    },
    {
      "cell_type": "markdown",
      "metadata": {
        "id": "47a3sA8BsGwu"
      },
      "source": [
        "# Auto Encoder Model"
      ]
    },
    {
      "cell_type": "code",
      "metadata": {
        "id": "5zsw6TzYtB9K"
      },
      "source": [
        "from tensorflow.keras.models import Model\n",
        "from tensorflow.keras.layers import Input\n",
        "from tensorflow.keras.layers import Dense\n",
        "from tensorflow.keras.layers import LeakyReLU\n",
        "from tensorflow.keras.layers import BatchNormalization\n",
        "from tensorflow.keras.utils import plot_model"
      ],
      "execution_count": null,
      "outputs": []
    },
    {
      "cell_type": "code",
      "metadata": {
        "colab": {
          "base_uri": "https://localhost:8080/",
          "height": 754
        },
        "id": "s8migYDHsJ1m",
        "outputId": "c8532a37-39f1-477a-8c63-f4da599cffdc"
      },
      "source": [
        "# define encoder\n",
        "n_inputs = X_train.shape[1]\n",
        "# define encoder\n",
        "visible = Input(shape=(n_inputs,))\n",
        "# encoder level 1\n",
        "e = Dense(32)(visible)\n",
        "# encoder level 2\n",
        "e = Dense(24)(e)\n",
        "# bottleneck\n",
        "n_bottleneck = 16\n",
        "bottleneck = Dense(n_bottleneck)(e)\n",
        "# define decoder, level 1\n",
        "d = Dense(24)(bottleneck)\n",
        "# decoder level 2\n",
        "d = Dense(32)(d)\n",
        "# output layer\n",
        "output = Dense(n_inputs, activation='linear')(d)\n",
        "# define autoencoder model\n",
        "model = Model(inputs=visible, outputs=output)\n",
        "# compile autoencoder model\n",
        "model.compile(optimizer='adam', loss='mse', metrics=[\"accuracy\"])\n",
        "# plot the autoencoder\n",
        "plot_model(model, 'autoencoder_compress.png', show_shapes=True)\n"
      ],
      "execution_count": null,
      "outputs": [
        {
          "output_type": "execute_result",
          "data": {
            "image/png": "[encoded data removed]",
            "text/plain": [
              "<IPython.core.display.Image object>"
            ]
          },
          "metadata": {},
          "execution_count": 26
        }
      ]
    },
    {
      "cell_type": "code",
      "metadata": {
        "colab": {
          "base_uri": "https://localhost:8080/"
        },
        "id": "Smyai2USuUsN",
        "outputId": "a2cdef8f-c9f2-4496-b756-30fd3f9141c9"
      },
      "source": [
        "# fit the autoencoder model to reconstruct input\n",
        "history = model.fit(X_train, X_train, epochs=100, batch_size=16, verbose=2, validation_split=0.2)\n"
      ],
      "execution_count": null,
      "outputs": [
        {
          "output_type": "stream",
          "name": "stdout",
          "text": [
            "Epoch 1/100\n",
            "6299/6299 - 10s - loss: 10026191.0000 - accuracy: 0.2445 - val_loss: 14824195.0000 - val_accuracy: 0.3254\n",
            "Epoch 2/100\n",
            "6299/6299 - 9s - loss: 9701487.0000 - accuracy: 0.2982 - val_loss: 18487070.0000 - val_accuracy: 0.2811\n",
            "Epoch 3/100\n",
            "6299/6299 - 8s - loss: 18622480.0000 - accuracy: 0.2355 - val_loss: 12864242.0000 - val_accuracy: 0.1975\n",
            "Epoch 4/100\n",
            "6299/6299 - 9s - loss: 4066874.0000 - accuracy: 0.1843 - val_loss: 14802881.0000 - val_accuracy: 0.1474\n",
            "Epoch 5/100\n",
            "6299/6299 - 8s - loss: 7037733.0000 - accuracy: 0.0818 - val_loss: 13512219.0000 - val_accuracy: 0.0783\n",
            "Epoch 6/100\n",
            "6299/6299 - 8s - loss: 10590739.0000 - accuracy: 0.0989 - val_loss: 21615148.0000 - val_accuracy: 0.1055\n",
            "Epoch 7/100\n",
            "6299/6299 - 9s - loss: 4193485.5000 - accuracy: 0.1341 - val_loss: 16033824.0000 - val_accuracy: 0.1209\n",
            "Epoch 8/100\n",
            "6299/6299 - 9s - loss: 6574327.0000 - accuracy: 0.1674 - val_loss: 13346698.0000 - val_accuracy: 0.2430\n",
            "Epoch 9/100\n",
            "6299/6299 - 8s - loss: 18520068.0000 - accuracy: 0.2073 - val_loss: 6686223.0000 - val_accuracy: 0.1750\n",
            "Epoch 10/100\n",
            "6299/6299 - 8s - loss: 3775001.5000 - accuracy: 0.1459 - val_loss: 13860952.0000 - val_accuracy: 0.1653\n",
            "Epoch 11/100\n",
            "6299/6299 - 8s - loss: 4624012.0000 - accuracy: 0.1562 - val_loss: 3691605.0000 - val_accuracy: 0.1977\n",
            "Epoch 12/100\n",
            "6299/6299 - 8s - loss: 3183386.0000 - accuracy: 0.1792 - val_loss: 14131248.0000 - val_accuracy: 0.1319\n",
            "Epoch 13/100\n",
            "6299/6299 - 8s - loss: 8859087.0000 - accuracy: 0.1911 - val_loss: 19230630.0000 - val_accuracy: 0.1520\n",
            "Epoch 14/100\n",
            "6299/6299 - 9s - loss: 3959741.2500 - accuracy: 0.1443 - val_loss: 8111112.5000 - val_accuracy: 0.1324\n",
            "Epoch 15/100\n",
            "6299/6299 - 8s - loss: 2532174.0000 - accuracy: 0.1277 - val_loss: 17881732.0000 - val_accuracy: 0.0953\n",
            "Epoch 16/100\n",
            "6299/6299 - 8s - loss: 7768204.5000 - accuracy: 0.1403 - val_loss: 7223079.5000 - val_accuracy: 0.1798\n",
            "Epoch 17/100\n",
            "6299/6299 - 8s - loss: 3596819.5000 - accuracy: 0.1818 - val_loss: 689016.1875 - val_accuracy: 0.1129\n",
            "Epoch 18/100\n",
            "6299/6299 - 8s - loss: 2345126.0000 - accuracy: 0.1647 - val_loss: 4998880.5000 - val_accuracy: 0.1724\n",
            "Epoch 19/100\n",
            "6299/6299 - 8s - loss: 9361175.0000 - accuracy: 0.1506 - val_loss: 5326673.0000 - val_accuracy: 0.1719\n",
            "Epoch 20/100\n",
            "6299/6299 - 8s - loss: 3846009.5000 - accuracy: 0.1273 - val_loss: 4085339.2500 - val_accuracy: 0.1532\n",
            "Epoch 21/100\n",
            "6299/6299 - 8s - loss: 4385202.0000 - accuracy: 0.1537 - val_loss: 5072408.0000 - val_accuracy: 0.1660\n",
            "Epoch 22/100\n",
            "6299/6299 - 8s - loss: 3952679.5000 - accuracy: 0.1367 - val_loss: 3480933.5000 - val_accuracy: 0.1944\n",
            "Epoch 23/100\n",
            "6299/6299 - 8s - loss: 3745662.5000 - accuracy: 0.1735 - val_loss: 11667714.0000 - val_accuracy: 0.0942\n",
            "Epoch 24/100\n",
            "6299/6299 - 8s - loss: 4786758.0000 - accuracy: 0.1629 - val_loss: 9563296.0000 - val_accuracy: 0.1881\n",
            "Epoch 25/100\n",
            "6299/6299 - 8s - loss: 6265527.0000 - accuracy: 0.2037 - val_loss: 6498785.5000 - val_accuracy: 0.1759\n",
            "Epoch 26/100\n",
            "6299/6299 - 8s - loss: 2910390.0000 - accuracy: 0.1674 - val_loss: 19352058.0000 - val_accuracy: 0.1242\n",
            "Epoch 27/100\n",
            "6299/6299 - 8s - loss: 5821276.5000 - accuracy: 0.1792 - val_loss: 8230230.5000 - val_accuracy: 0.1791\n",
            "Epoch 28/100\n",
            "6299/6299 - 8s - loss: 3065489.2500 - accuracy: 0.1775 - val_loss: 7973631.5000 - val_accuracy: 0.1151\n",
            "Epoch 29/100\n",
            "6299/6299 - 8s - loss: 11068879.0000 - accuracy: 0.1392 - val_loss: 10172685.0000 - val_accuracy: 0.1291\n",
            "Epoch 30/100\n",
            "6299/6299 - 8s - loss: 1744739.0000 - accuracy: 0.1601 - val_loss: 848692.8125 - val_accuracy: 0.1565\n",
            "Epoch 31/100\n",
            "6299/6299 - 8s - loss: 4605742.5000 - accuracy: 0.1789 - val_loss: 9646656.0000 - val_accuracy: 0.1686\n",
            "Epoch 32/100\n",
            "6299/6299 - 8s - loss: 2567484.7500 - accuracy: 0.1487 - val_loss: 1151427.2500 - val_accuracy: 0.1189\n",
            "Epoch 33/100\n",
            "6299/6299 - 8s - loss: 2075872.0000 - accuracy: 0.2148 - val_loss: 64823928.0000 - val_accuracy: 0.1406\n",
            "Epoch 34/100\n",
            "6299/6299 - 8s - loss: 3620282.7500 - accuracy: 0.1381 - val_loss: 11665482.0000 - val_accuracy: 0.1365\n",
            "Epoch 35/100\n",
            "6299/6299 - 8s - loss: 2334528.2500 - accuracy: 0.1328 - val_loss: 10579275.0000 - val_accuracy: 0.0995\n",
            "Epoch 36/100\n",
            "6299/6299 - 8s - loss: 2325191.0000 - accuracy: 0.1440 - val_loss: 4446066.5000 - val_accuracy: 0.1158\n",
            "Epoch 37/100\n",
            "6299/6299 - 8s - loss: 2240808.5000 - accuracy: 0.1390 - val_loss: 2087675.0000 - val_accuracy: 0.0842\n",
            "Epoch 38/100\n",
            "6299/6299 - 8s - loss: 8292671.0000 - accuracy: 0.1194 - val_loss: 4620914.0000 - val_accuracy: 0.1763\n",
            "Epoch 39/100\n",
            "6299/6299 - 8s - loss: 1040681.9375 - accuracy: 0.1871 - val_loss: 23748046.0000 - val_accuracy: 0.3045\n",
            "Epoch 40/100\n",
            "6299/6299 - 8s - loss: 4698121.0000 - accuracy: 0.1935 - val_loss: 8109608.5000 - val_accuracy: 0.1734\n",
            "Epoch 41/100\n",
            "6299/6299 - 8s - loss: 3972696.5000 - accuracy: 0.2104 - val_loss: 5696877.5000 - val_accuracy: 0.1565\n",
            "Epoch 42/100\n",
            "6299/6299 - 8s - loss: 2045580.3750 - accuracy: 0.1645 - val_loss: 5561311.5000 - val_accuracy: 0.1942\n",
            "Epoch 43/100\n",
            "6299/6299 - 8s - loss: 3284126.5000 - accuracy: 0.1574 - val_loss: 1962559.0000 - val_accuracy: 0.1346\n",
            "Epoch 44/100\n",
            "6299/6299 - 8s - loss: 2523929.7500 - accuracy: 0.1637 - val_loss: 328790.6250 - val_accuracy: 0.2154\n",
            "Epoch 45/100\n",
            "6299/6299 - 8s - loss: 5279236.5000 - accuracy: 0.1998 - val_loss: 784420.0625 - val_accuracy: 0.2198\n",
            "Epoch 46/100\n",
            "6299/6299 - 8s - loss: 1341749.2500 - accuracy: 0.1734 - val_loss: 3521356.2500 - val_accuracy: 0.2354\n",
            "Epoch 47/100\n",
            "6299/6299 - 8s - loss: 2885998.0000 - accuracy: 0.1982 - val_loss: 3448502.0000 - val_accuracy: 0.1896\n",
            "Epoch 48/100\n",
            "6299/6299 - 8s - loss: 3359653.5000 - accuracy: 0.2311 - val_loss: 379481.1562 - val_accuracy: 0.2222\n",
            "Epoch 49/100\n",
            "6299/6299 - 8s - loss: 4561970.5000 - accuracy: 0.2154 - val_loss: 36145952.0000 - val_accuracy: 0.2332\n",
            "Epoch 50/100\n",
            "6299/6299 - 8s - loss: 3099257.2500 - accuracy: 0.2249 - val_loss: 6296560.0000 - val_accuracy: 0.2666\n",
            "Epoch 51/100\n",
            "6299/6299 - 8s - loss: 2853349.2500 - accuracy: 0.1529 - val_loss: 2221572.2500 - val_accuracy: 0.1809\n",
            "Epoch 52/100\n",
            "6299/6299 - 8s - loss: 2674011.0000 - accuracy: 0.1383 - val_loss: 32899494.0000 - val_accuracy: 0.1643\n",
            "Epoch 53/100\n",
            "6299/6299 - 8s - loss: 6533013.5000 - accuracy: 0.2534 - val_loss: 707450.2500 - val_accuracy: 0.3226\n",
            "Epoch 54/100\n",
            "6299/6299 - 8s - loss: 3061205.5000 - accuracy: 0.2554 - val_loss: 3546486.7500 - val_accuracy: 0.2467\n",
            "Epoch 55/100\n",
            "6299/6299 - 8s - loss: 2265352.2500 - accuracy: 0.2278 - val_loss: 3880656.5000 - val_accuracy: 0.1950\n",
            "Epoch 56/100\n",
            "6299/6299 - 8s - loss: 2692230.2500 - accuracy: 0.1885 - val_loss: 2099513.5000 - val_accuracy: 0.2027\n",
            "Epoch 57/100\n",
            "6299/6299 - 8s - loss: 2803694.5000 - accuracy: 0.2056 - val_loss: 6474527.0000 - val_accuracy: 0.1854\n",
            "Epoch 58/100\n",
            "6299/6299 - 8s - loss: 1058264.7500 - accuracy: 0.1767 - val_loss: 46095.2227 - val_accuracy: 0.3001\n",
            "Epoch 59/100\n",
            "6299/6299 - 8s - loss: 3380835.5000 - accuracy: 0.2300 - val_loss: 1330232.5000 - val_accuracy: 0.1273\n",
            "Epoch 60/100\n",
            "6299/6299 - 8s - loss: 1468803.3750 - accuracy: 0.1715 - val_loss: 14041102.0000 - val_accuracy: 0.2764\n",
            "Epoch 61/100\n",
            "6299/6299 - 8s - loss: 2651677.2500 - accuracy: 0.2129 - val_loss: 4234676.5000 - val_accuracy: 0.3180\n",
            "Epoch 62/100\n",
            "6299/6299 - 8s - loss: 1155586.7500 - accuracy: 0.3008 - val_loss: 767060.3125 - val_accuracy: 0.2749\n",
            "Epoch 63/100\n",
            "6299/6299 - 8s - loss: 2203464.5000 - accuracy: 0.2056 - val_loss: 1263974.2500 - val_accuracy: 0.1955\n",
            "Epoch 64/100\n",
            "6299/6299 - 8s - loss: 1702098.8750 - accuracy: 0.2118 - val_loss: 3006693.5000 - val_accuracy: 0.2361\n",
            "Epoch 65/100\n",
            "6299/6299 - 8s - loss: 2663410.2500 - accuracy: 0.2418 - val_loss: 3425046.7500 - val_accuracy: 0.1981\n",
            "Epoch 66/100\n",
            "6299/6299 - 8s - loss: 1749188.2500 - accuracy: 0.2622 - val_loss: 525842.0625 - val_accuracy: 0.2836\n",
            "Epoch 67/100\n",
            "6299/6299 - 8s - loss: 2191894.2500 - accuracy: 0.2361 - val_loss: 175606.0625 - val_accuracy: 0.2585\n",
            "Epoch 68/100\n",
            "6299/6299 - 8s - loss: 3246103.2500 - accuracy: 0.2168 - val_loss: 430738.2188 - val_accuracy: 0.1544\n",
            "Epoch 69/100\n",
            "6299/6299 - 8s - loss: 271775.0625 - accuracy: 0.1604 - val_loss: 8713003.0000 - val_accuracy: 0.1777\n",
            "Epoch 70/100\n",
            "6299/6299 - 8s - loss: 1382400.0000 - accuracy: 0.2342 - val_loss: 6819785.0000 - val_accuracy: 0.2781\n",
            "Epoch 71/100\n",
            "6299/6299 - 8s - loss: 2241463.7500 - accuracy: 0.2852 - val_loss: 26510098.0000 - val_accuracy: 0.2945\n",
            "Epoch 72/100\n",
            "6299/6299 - 8s - loss: 2071026.5000 - accuracy: 0.2419 - val_loss: 18453524.0000 - val_accuracy: 0.2688\n",
            "Epoch 73/100\n",
            "6299/6299 - 8s - loss: 2304383.5000 - accuracy: 0.2419 - val_loss: 1795950.1250 - val_accuracy: 0.1283\n",
            "Epoch 74/100\n",
            "6299/6299 - 8s - loss: 5789787.5000 - accuracy: 0.2084 - val_loss: 1584390.8750 - val_accuracy: 0.2416\n",
            "Epoch 75/100\n",
            "6299/6299 - 8s - loss: 1038896.4375 - accuracy: 0.2336 - val_loss: 1036401.2500 - val_accuracy: 0.2676\n",
            "Epoch 76/100\n",
            "6299/6299 - 8s - loss: 1763441.3750 - accuracy: 0.2072 - val_loss: 3083328.2500 - val_accuracy: 0.1970\n",
            "Epoch 77/100\n",
            "6299/6299 - 8s - loss: 1761652.2500 - accuracy: 0.2479 - val_loss: 354574.5625 - val_accuracy: 0.1693\n",
            "Epoch 78/100\n",
            "6299/6299 - 8s - loss: 1607021.5000 - accuracy: 0.1112 - val_loss: 2373192.5000 - val_accuracy: 0.0899\n",
            "Epoch 79/100\n",
            "6299/6299 - 8s - loss: 2432343.7500 - accuracy: 0.1305 - val_loss: 1342482.6250 - val_accuracy: 0.1224\n",
            "Epoch 80/100\n",
            "6299/6299 - 8s - loss: 1526793.0000 - accuracy: 0.1683 - val_loss: 3826043.0000 - val_accuracy: 0.0811\n",
            "Epoch 81/100\n",
            "6299/6299 - 8s - loss: 2078906.8750 - accuracy: 0.1324 - val_loss: 5106719.0000 - val_accuracy: 0.1316\n",
            "Epoch 82/100\n",
            "6299/6299 - 8s - loss: 772446.8125 - accuracy: 0.1603 - val_loss: 11633267.0000 - val_accuracy: 0.2563\n",
            "Epoch 83/100\n",
            "6299/6299 - 8s - loss: 1257323.5000 - accuracy: 0.1903 - val_loss: 16104409.0000 - val_accuracy: 0.1129\n",
            "Epoch 84/100\n",
            "6299/6299 - 8s - loss: 2387325.5000 - accuracy: 0.1542 - val_loss: 329655.9688 - val_accuracy: 0.1256\n",
            "Epoch 85/100\n",
            "6299/6299 - 8s - loss: 2153514.2500 - accuracy: 0.1568 - val_loss: 938817.8125 - val_accuracy: 0.1912\n",
            "Epoch 86/100\n",
            "6299/6299 - 8s - loss: 1126542.3750 - accuracy: 0.1476 - val_loss: 765470.8125 - val_accuracy: 0.1426\n",
            "Epoch 87/100\n",
            "6299/6299 - 8s - loss: 1124441.1250 - accuracy: 0.1559 - val_loss: 545629.5000 - val_accuracy: 0.1621\n",
            "Epoch 88/100\n",
            "6299/6299 - 8s - loss: 3075610.7500 - accuracy: 0.1912 - val_loss: 70359.2422 - val_accuracy: 0.2270\n",
            "Epoch 89/100\n",
            "6299/6299 - 8s - loss: 3280581.7500 - accuracy: 0.2202 - val_loss: 2925191.7500 - val_accuracy: 0.2164\n",
            "Epoch 90/100\n",
            "6299/6299 - 8s - loss: 1102283.8750 - accuracy: 0.1922 - val_loss: 29361530.0000 - val_accuracy: 0.1413\n",
            "Epoch 91/100\n",
            "6299/6299 - 8s - loss: 2380146.5000 - accuracy: 0.1171 - val_loss: 3610761.2500 - val_accuracy: 0.1430\n",
            "Epoch 92/100\n",
            "6299/6299 - 8s - loss: 1295933.7500 - accuracy: 0.1878 - val_loss: 8709963.0000 - val_accuracy: 0.1696\n",
            "Epoch 93/100\n",
            "6299/6299 - 8s - loss: 3993674.0000 - accuracy: 0.1627 - val_loss: 366205.3125 - val_accuracy: 0.1538\n",
            "Epoch 94/100\n",
            "6299/6299 - 8s - loss: 206408.6406 - accuracy: 0.1782 - val_loss: 2752689.5000 - val_accuracy: 0.1652\n",
            "Epoch 95/100\n",
            "6299/6299 - 8s - loss: 1195043.8750 - accuracy: 0.1321 - val_loss: 3387266.0000 - val_accuracy: 0.1609\n",
            "Epoch 96/100\n",
            "6299/6299 - 8s - loss: 1251305.2500 - accuracy: 0.1882 - val_loss: 2709437.0000 - val_accuracy: 0.1875\n",
            "Epoch 97/100\n",
            "6299/6299 - 8s - loss: 1468933.6250 - accuracy: 0.1654 - val_loss: 9956543.0000 - val_accuracy: 0.2562\n",
            "Epoch 98/100\n",
            "6299/6299 - 8s - loss: 1202033.7500 - accuracy: 0.2201 - val_loss: 1441642.1250 - val_accuracy: 0.1276\n",
            "Epoch 99/100\n",
            "6299/6299 - 8s - loss: 1103429.1250 - accuracy: 0.1522 - val_loss: 2853381.7500 - val_accuracy: 0.1782\n",
            "Epoch 100/100\n",
            "6299/6299 - 8s - loss: 1032892.3125 - accuracy: 0.2185 - val_loss: 3654603.0000 - val_accuracy: 0.2446\n"
          ]
        }
      ]
    },
    {
      "cell_type": "code",
      "metadata": {
        "colab": {
          "base_uri": "https://localhost:8080/",
          "height": 265
        },
        "id": "bpaYmaTquR41",
        "outputId": "8fba3d7b-7e2e-4aa6-cc25-188f3a1261a7"
      },
      "source": [
        "from matplotlib import pyplot\n",
        "# plot loss\n",
        "# pyplot.plot(history.history['loss'], label='train loss')\n",
        "# pyplot.plot(history.history['val_loss'], label='val_loss')\n",
        "pyplot.plot(history.history['accuracy'], label='train_acc')\n",
        "pyplot.plot(history.history['val_accuracy'], label='val_acc')\n",
        "pyplot.legend()\n",
        "pyplot.show()"
      ],
      "execution_count": null,
      "outputs": [
        {
          "output_type": "display_data",
          "data": {
            "image/png": "[encoded data removed]",
            "text/plain": [
              "<Figure size 432x288 with 1 Axes>"
            ]
          },
          "metadata": {
            "needs_background": "light"
          }
        }
      ]
    },
    {
      "cell_type": "code",
      "metadata": {
        "id": "1-UzJ6dG9h5O"
      },
      "source": [
        "# define an encoder model (without the decoder)\n",
        "encoder = Model(inputs=visible, outputs=bottleneck)\n",
        "encoder.compile(optimizer='adam', loss='mse', metrics=[\"accuracy\"])\n",
        "plot_model(encoder, 'encoder_compress.png', show_shapes=True)\n",
        "# save the encoder to file\n",
        "encoder.save('encoder.h5')"
      ],
      "execution_count": null,
      "outputs": []
    },
    {
      "cell_type": "markdown",
      "metadata": {
        "id": "k9X3j8zkJNS6"
      },
      "source": [
        "# Classification"
      ]
    },
    {
      "cell_type": "code",
      "metadata": {
        "id": "uVQKObpjJPQ8"
      },
      "source": [
        "from tensorflow.keras.models import load_model\n",
        "encoder = load_model('encoder.h5')\n",
        "# encode the train data\n",
        "X_train_encode = encoder.predict(X_train)\n",
        "# encode the test data\n",
        "X_test_encode = encoder.predict(X_test)\n"
      ],
      "execution_count": null,
      "outputs": []
    },
    {
      "cell_type": "code",
      "metadata": {
        "colab": {
          "base_uri": "https://localhost:8080/"
        },
        "id": "wDp6_HDNKoWu",
        "outputId": "3993024b-858c-4007-ca0d-b5f5ff125a50"
      },
      "source": [
        "from keras.models import Sequential\n",
        "# define the model\n",
        "model = Sequential()\n",
        "model.add(Dense(6, activation='relu', input_dim=16))\n",
        "model.add(Dense(1, activation=\"sigmoid\"))\n",
        "# fit the model on the training set\n",
        "model.compile(optimizer='adam', loss='mse', metrics=[\"accuracy\"])\n",
        "history = model.fit(X_train_encode, Y_train, epochs=100, batch_size=16, verbose=2, validation_split=0.2)\n"
      ],
      "execution_count": null,
      "outputs": [
        {
          "output_type": "stream",
          "name": "stdout",
          "text": [
            "Epoch 1/100\n",
            "6299/6299 - 7s - loss: 0.0649 - accuracy: 0.9292 - val_loss: 0.0487 - val_accuracy: 0.9467\n",
            "Epoch 2/100\n",
            "6299/6299 - 6s - loss: 0.0411 - accuracy: 0.9541 - val_loss: 0.0395 - val_accuracy: 0.9545\n",
            "Epoch 3/100\n",
            "6299/6299 - 6s - loss: 0.0378 - accuracy: 0.9579 - val_loss: 0.0363 - val_accuracy: 0.9599\n",
            "Epoch 4/100\n",
            "6299/6299 - 6s - loss: 0.0359 - accuracy: 0.9605 - val_loss: 0.0353 - val_accuracy: 0.9605\n",
            "Epoch 5/100\n",
            "6299/6299 - 6s - loss: 0.0347 - accuracy: 0.9621 - val_loss: 0.0340 - val_accuracy: 0.9632\n",
            "Epoch 6/100\n",
            "6299/6299 - 6s - loss: 0.0342 - accuracy: 0.9627 - val_loss: 0.0353 - val_accuracy: 0.9613\n",
            "Epoch 7/100\n",
            "6299/6299 - 6s - loss: 0.0333 - accuracy: 0.9637 - val_loss: 0.0329 - val_accuracy: 0.9625\n",
            "Epoch 8/100\n",
            "6299/6299 - 6s - loss: 0.0327 - accuracy: 0.9645 - val_loss: 0.0316 - val_accuracy: 0.9659\n",
            "Epoch 9/100\n",
            "6299/6299 - 6s - loss: 0.0323 - accuracy: 0.9650 - val_loss: 0.0329 - val_accuracy: 0.9637\n",
            "Epoch 10/100\n",
            "6299/6299 - 6s - loss: 0.0319 - accuracy: 0.9656 - val_loss: 0.0308 - val_accuracy: 0.9682\n",
            "Epoch 11/100\n",
            "6299/6299 - 6s - loss: 0.0318 - accuracy: 0.9656 - val_loss: 0.0306 - val_accuracy: 0.9678\n",
            "Epoch 12/100\n",
            "6299/6299 - 6s - loss: 0.0315 - accuracy: 0.9659 - val_loss: 0.0311 - val_accuracy: 0.9675\n",
            "Epoch 13/100\n",
            "6299/6299 - 6s - loss: 0.0313 - accuracy: 0.9662 - val_loss: 0.0330 - val_accuracy: 0.9630\n",
            "Epoch 14/100\n",
            "6299/6299 - 6s - loss: 0.0313 - accuracy: 0.9662 - val_loss: 0.0300 - val_accuracy: 0.9674\n",
            "Epoch 15/100\n",
            "6299/6299 - 6s - loss: 0.0312 - accuracy: 0.9661 - val_loss: 0.0309 - val_accuracy: 0.9665\n",
            "Epoch 16/100\n",
            "6299/6299 - 6s - loss: 0.0309 - accuracy: 0.9667 - val_loss: 0.0306 - val_accuracy: 0.9676\n",
            "Epoch 17/100\n",
            "6299/6299 - 6s - loss: 0.0310 - accuracy: 0.9664 - val_loss: 0.0309 - val_accuracy: 0.9675\n",
            "Epoch 18/100\n",
            "6299/6299 - 6s - loss: 0.0309 - accuracy: 0.9667 - val_loss: 0.0313 - val_accuracy: 0.9655\n",
            "Epoch 19/100\n",
            "6299/6299 - 6s - loss: 0.0308 - accuracy: 0.9668 - val_loss: 0.0309 - val_accuracy: 0.9667\n",
            "Epoch 20/100\n",
            "6299/6299 - 6s - loss: 0.0307 - accuracy: 0.9666 - val_loss: 0.0307 - val_accuracy: 0.9662\n",
            "Epoch 21/100\n",
            "6299/6299 - 6s - loss: 0.0306 - accuracy: 0.9670 - val_loss: 0.0330 - val_accuracy: 0.9638\n",
            "Epoch 22/100\n",
            "6299/6299 - 6s - loss: 0.0306 - accuracy: 0.9673 - val_loss: 0.0318 - val_accuracy: 0.9647\n",
            "Epoch 23/100\n",
            "6299/6299 - 6s - loss: 0.0306 - accuracy: 0.9671 - val_loss: 0.0307 - val_accuracy: 0.9670\n",
            "Epoch 24/100\n",
            "6299/6299 - 6s - loss: 0.0305 - accuracy: 0.9671 - val_loss: 0.0315 - val_accuracy: 0.9662\n",
            "Epoch 25/100\n",
            "6299/6299 - 6s - loss: 0.0304 - accuracy: 0.9669 - val_loss: 0.0292 - val_accuracy: 0.9690\n",
            "Epoch 26/100\n",
            "6299/6299 - 6s - loss: 0.0305 - accuracy: 0.9674 - val_loss: 0.0294 - val_accuracy: 0.9692\n",
            "Epoch 27/100\n",
            "6299/6299 - 6s - loss: 0.0304 - accuracy: 0.9672 - val_loss: 0.0293 - val_accuracy: 0.9686\n",
            "Epoch 28/100\n",
            "6299/6299 - 6s - loss: 0.0303 - accuracy: 0.9675 - val_loss: 0.0299 - val_accuracy: 0.9689\n",
            "Epoch 29/100\n",
            "6299/6299 - 6s - loss: 0.0302 - accuracy: 0.9676 - val_loss: 0.0332 - val_accuracy: 0.9637\n",
            "Epoch 30/100\n",
            "6299/6299 - 6s - loss: 0.0301 - accuracy: 0.9676 - val_loss: 0.0292 - val_accuracy: 0.9688\n",
            "Epoch 31/100\n",
            "6299/6299 - 6s - loss: 0.0299 - accuracy: 0.9679 - val_loss: 0.0339 - val_accuracy: 0.9626\n",
            "Epoch 32/100\n",
            "6299/6299 - 6s - loss: 0.0301 - accuracy: 0.9680 - val_loss: 0.0301 - val_accuracy: 0.9671\n",
            "Epoch 33/100\n",
            "6299/6299 - 6s - loss: 0.0302 - accuracy: 0.9674 - val_loss: 0.0299 - val_accuracy: 0.9688\n",
            "Epoch 34/100\n",
            "6299/6299 - 6s - loss: 0.0300 - accuracy: 0.9680 - val_loss: 0.0290 - val_accuracy: 0.9688\n",
            "Epoch 35/100\n",
            "6299/6299 - 6s - loss: 0.0300 - accuracy: 0.9680 - val_loss: 0.0296 - val_accuracy: 0.9681\n",
            "Epoch 36/100\n",
            "6299/6299 - 6s - loss: 0.0300 - accuracy: 0.9680 - val_loss: 0.0295 - val_accuracy: 0.9688\n",
            "Epoch 37/100\n",
            "6299/6299 - 6s - loss: 0.0298 - accuracy: 0.9682 - val_loss: 0.0294 - val_accuracy: 0.9691\n",
            "Epoch 38/100\n",
            "6299/6299 - 6s - loss: 0.0298 - accuracy: 0.9681 - val_loss: 0.0288 - val_accuracy: 0.9686\n",
            "Epoch 39/100\n",
            "6299/6299 - 6s - loss: 0.0299 - accuracy: 0.9680 - val_loss: 0.0294 - val_accuracy: 0.9684\n",
            "Epoch 40/100\n",
            "6299/6299 - 6s - loss: 0.0298 - accuracy: 0.9682 - val_loss: 0.0289 - val_accuracy: 0.9684\n",
            "Epoch 41/100\n",
            "6299/6299 - 6s - loss: 0.0298 - accuracy: 0.9683 - val_loss: 0.0294 - val_accuracy: 0.9679\n",
            "Epoch 42/100\n",
            "6299/6299 - 6s - loss: 0.0298 - accuracy: 0.9681 - val_loss: 0.0288 - val_accuracy: 0.9680\n",
            "Epoch 43/100\n",
            "6299/6299 - 6s - loss: 0.0299 - accuracy: 0.9681 - val_loss: 0.0299 - val_accuracy: 0.9671\n",
            "Epoch 44/100\n",
            "6299/6299 - 6s - loss: 0.0297 - accuracy: 0.9684 - val_loss: 0.0291 - val_accuracy: 0.9692\n",
            "Epoch 45/100\n",
            "6299/6299 - 6s - loss: 0.0297 - accuracy: 0.9685 - val_loss: 0.0290 - val_accuracy: 0.9696\n",
            "Epoch 46/100\n",
            "6299/6299 - 6s - loss: 0.0296 - accuracy: 0.9685 - val_loss: 0.0304 - val_accuracy: 0.9664\n",
            "Epoch 47/100\n",
            "6299/6299 - 6s - loss: 0.0296 - accuracy: 0.9685 - val_loss: 0.0296 - val_accuracy: 0.9690\n",
            "Epoch 48/100\n",
            "6299/6299 - 6s - loss: 0.0297 - accuracy: 0.9682 - val_loss: 0.0321 - val_accuracy: 0.9643\n",
            "Epoch 49/100\n",
            "6299/6299 - 6s - loss: 0.0296 - accuracy: 0.9685 - val_loss: 0.0327 - val_accuracy: 0.9646\n",
            "Epoch 50/100\n",
            "6299/6299 - 6s - loss: 0.0295 - accuracy: 0.9687 - val_loss: 0.0294 - val_accuracy: 0.9687\n",
            "Epoch 51/100\n",
            "6299/6299 - 6s - loss: 0.0295 - accuracy: 0.9687 - val_loss: 0.0331 - val_accuracy: 0.9636\n",
            "Epoch 52/100\n",
            "6299/6299 - 6s - loss: 0.0295 - accuracy: 0.9689 - val_loss: 0.0287 - val_accuracy: 0.9702\n",
            "Epoch 53/100\n",
            "6299/6299 - 6s - loss: 0.0297 - accuracy: 0.9685 - val_loss: 0.0292 - val_accuracy: 0.9692\n",
            "Epoch 54/100\n",
            "6299/6299 - 6s - loss: 0.0296 - accuracy: 0.9687 - val_loss: 0.0286 - val_accuracy: 0.9696\n",
            "Epoch 55/100\n",
            "6299/6299 - 6s - loss: 0.0294 - accuracy: 0.9687 - val_loss: 0.0296 - val_accuracy: 0.9693\n",
            "Epoch 56/100\n",
            "6299/6299 - 6s - loss: 0.0294 - accuracy: 0.9687 - val_loss: 0.0287 - val_accuracy: 0.9696\n",
            "Epoch 57/100\n",
            "6299/6299 - 6s - loss: 0.0294 - accuracy: 0.9688 - val_loss: 0.0282 - val_accuracy: 0.9703\n",
            "Epoch 58/100\n",
            "6299/6299 - 6s - loss: 0.0295 - accuracy: 0.9685 - val_loss: 0.0317 - val_accuracy: 0.9662\n",
            "Epoch 59/100\n",
            "6299/6299 - 6s - loss: 0.0294 - accuracy: 0.9690 - val_loss: 0.0280 - val_accuracy: 0.9710\n",
            "Epoch 60/100\n",
            "6299/6299 - 6s - loss: 0.0294 - accuracy: 0.9689 - val_loss: 0.0286 - val_accuracy: 0.9699\n",
            "Epoch 61/100\n",
            "6299/6299 - 6s - loss: 0.0293 - accuracy: 0.9689 - val_loss: 0.0283 - val_accuracy: 0.9702\n",
            "Epoch 62/100\n",
            "6299/6299 - 6s - loss: 0.0292 - accuracy: 0.9692 - val_loss: 0.0281 - val_accuracy: 0.9708\n",
            "Epoch 63/100\n",
            "6299/6299 - 6s - loss: 0.0293 - accuracy: 0.9692 - val_loss: 0.0292 - val_accuracy: 0.9698\n",
            "Epoch 64/100\n",
            "6299/6299 - 6s - loss: 0.0293 - accuracy: 0.9692 - val_loss: 0.0281 - val_accuracy: 0.9709\n",
            "Epoch 65/100\n",
            "6299/6299 - 6s - loss: 0.0293 - accuracy: 0.9691 - val_loss: 0.0293 - val_accuracy: 0.9680\n",
            "Epoch 66/100\n",
            "6299/6299 - 6s - loss: 0.0292 - accuracy: 0.9690 - val_loss: 0.0283 - val_accuracy: 0.9693\n",
            "Epoch 67/100\n",
            "6299/6299 - 6s - loss: 0.0292 - accuracy: 0.9690 - val_loss: 0.0305 - val_accuracy: 0.9673\n",
            "Epoch 68/100\n",
            "6299/6299 - 6s - loss: 0.0293 - accuracy: 0.9691 - val_loss: 0.0289 - val_accuracy: 0.9693\n",
            "Epoch 69/100\n",
            "6299/6299 - 6s - loss: 0.0292 - accuracy: 0.9692 - val_loss: 0.0294 - val_accuracy: 0.9680\n",
            "Epoch 70/100\n",
            "6299/6299 - 6s - loss: 0.0294 - accuracy: 0.9689 - val_loss: 0.0291 - val_accuracy: 0.9695\n",
            "Epoch 71/100\n",
            "6299/6299 - 6s - loss: 0.0292 - accuracy: 0.9692 - val_loss: 0.0297 - val_accuracy: 0.9689\n",
            "Epoch 72/100\n",
            "6299/6299 - 6s - loss: 0.0293 - accuracy: 0.9690 - val_loss: 0.0293 - val_accuracy: 0.9687\n",
            "Epoch 73/100\n",
            "6299/6299 - 6s - loss: 0.0292 - accuracy: 0.9691 - val_loss: 0.0299 - val_accuracy: 0.9678\n",
            "Epoch 74/100\n",
            "6299/6299 - 6s - loss: 0.0292 - accuracy: 0.9690 - val_loss: 0.0346 - val_accuracy: 0.9617\n",
            "Epoch 75/100\n",
            "6299/6299 - 6s - loss: 0.0293 - accuracy: 0.9691 - val_loss: 0.0280 - val_accuracy: 0.9696\n",
            "Epoch 76/100\n",
            "6299/6299 - 6s - loss: 0.0291 - accuracy: 0.9693 - val_loss: 0.0282 - val_accuracy: 0.9705\n",
            "Epoch 77/100\n",
            "6299/6299 - 6s - loss: 0.0292 - accuracy: 0.9693 - val_loss: 0.0288 - val_accuracy: 0.9675\n",
            "Epoch 78/100\n",
            "6299/6299 - 6s - loss: 0.0291 - accuracy: 0.9694 - val_loss: 0.0288 - val_accuracy: 0.9701\n",
            "Epoch 79/100\n",
            "6299/6299 - 6s - loss: 0.0290 - accuracy: 0.9696 - val_loss: 0.0288 - val_accuracy: 0.9677\n",
            "Epoch 80/100\n",
            "6299/6299 - 6s - loss: 0.0291 - accuracy: 0.9695 - val_loss: 0.0298 - val_accuracy: 0.9689\n",
            "Epoch 81/100\n",
            "6299/6299 - 6s - loss: 0.0292 - accuracy: 0.9692 - val_loss: 0.0283 - val_accuracy: 0.9700\n",
            "Epoch 82/100\n",
            "6299/6299 - 6s - loss: 0.0290 - accuracy: 0.9697 - val_loss: 0.0291 - val_accuracy: 0.9695\n",
            "Epoch 83/100\n",
            "6299/6299 - 6s - loss: 0.0292 - accuracy: 0.9693 - val_loss: 0.0281 - val_accuracy: 0.9707\n",
            "Epoch 84/100\n",
            "6299/6299 - 6s - loss: 0.0290 - accuracy: 0.9697 - val_loss: 0.0279 - val_accuracy: 0.9716\n",
            "Epoch 85/100\n",
            "6299/6299 - 6s - loss: 0.0291 - accuracy: 0.9695 - val_loss: 0.0296 - val_accuracy: 0.9692\n",
            "Epoch 86/100\n",
            "6299/6299 - 6s - loss: 0.0290 - accuracy: 0.9694 - val_loss: 0.0283 - val_accuracy: 0.9705\n",
            "Epoch 87/100\n",
            "6299/6299 - 6s - loss: 0.0291 - accuracy: 0.9695 - val_loss: 0.0323 - val_accuracy: 0.9650\n",
            "Epoch 88/100\n",
            "6299/6299 - 6s - loss: 0.0293 - accuracy: 0.9692 - val_loss: 0.0277 - val_accuracy: 0.9717\n",
            "Epoch 89/100\n",
            "6299/6299 - 6s - loss: 0.0291 - accuracy: 0.9696 - val_loss: 0.0283 - val_accuracy: 0.9710\n",
            "Epoch 90/100\n",
            "6299/6299 - 6s - loss: 0.0289 - accuracy: 0.9696 - val_loss: 0.0283 - val_accuracy: 0.9690\n",
            "Epoch 91/100\n",
            "6299/6299 - 6s - loss: 0.0290 - accuracy: 0.9698 - val_loss: 0.0282 - val_accuracy: 0.9714\n",
            "Epoch 92/100\n",
            "6299/6299 - 6s - loss: 0.0291 - accuracy: 0.9694 - val_loss: 0.0314 - val_accuracy: 0.9667\n",
            "Epoch 93/100\n",
            "6299/6299 - 6s - loss: 0.0290 - accuracy: 0.9698 - val_loss: 0.0302 - val_accuracy: 0.9660\n",
            "Epoch 94/100\n",
            "6299/6299 - 6s - loss: 0.0289 - accuracy: 0.9700 - val_loss: 0.0279 - val_accuracy: 0.9716\n",
            "Epoch 95/100\n",
            "6299/6299 - 6s - loss: 0.0292 - accuracy: 0.9695 - val_loss: 0.0283 - val_accuracy: 0.9709\n",
            "Epoch 96/100\n",
            "6299/6299 - 6s - loss: 0.0289 - accuracy: 0.9700 - val_loss: 0.0304 - val_accuracy: 0.9669\n",
            "Epoch 97/100\n",
            "6299/6299 - 6s - loss: 0.0289 - accuracy: 0.9701 - val_loss: 0.0276 - val_accuracy: 0.9714\n",
            "Epoch 98/100\n",
            "6299/6299 - 6s - loss: 0.0288 - accuracy: 0.9700 - val_loss: 0.0279 - val_accuracy: 0.9715\n",
            "Epoch 99/100\n",
            "6299/6299 - 6s - loss: 0.0290 - accuracy: 0.9697 - val_loss: 0.0280 - val_accuracy: 0.9706\n",
            "Epoch 100/100\n",
            "6299/6299 - 6s - loss: 0.0289 - accuracy: 0.9698 - val_loss: 0.0280 - val_accuracy: 0.9715\n"
          ]
        }
      ]
    },
    {
      "cell_type": "code",
      "metadata": {
        "colab": {
          "base_uri": "https://localhost:8080/"
        },
        "id": "6PQTmyXcLait",
        "outputId": "ce56acdf-54dc-4d16-8a4f-af61429d6bb0"
      },
      "source": [
        "from sklearn.metrics import accuracy_score\n",
        "# make predictions on the test set\n",
        "yhat = model.predict(X_test_encode)\n",
        "yhat_pred=[]\n",
        "for val in yhat:\n",
        "    if (val<0.5):\n",
        "        yhat_pred.append(0)\n",
        "    else:\n",
        "        yhat_pred.append(1)\n",
        "# calculate classification accuracy\n",
        "acc = accuracy_score(Y_test, yhat_pred)\n",
        "print(acc)"
      ],
      "execution_count": null,
      "outputs": [
        {
          "output_type": "stream",
          "name": "stdout",
          "text": [
            "0.7477821149751597\n"
          ]
        }
      ]
    },
    {
      "cell_type": "markdown",
      "metadata": {
        "id": "OVAN-kztRsv1"
      },
      "source": [
        "# Analysis"
      ]
    },
    {
      "cell_type": "code",
      "metadata": {
        "colab": {
          "base_uri": "https://localhost:8080/",
          "height": 573
        },
        "id": "KpYticdNedls",
        "outputId": "551713b4-9cc7-4162-ceca-463d2a7db15a"
      },
      "source": [
        "import matplotlib.pyplot as plt\n",
        "# summarize history for accuracy\n",
        "plt.plot(history.history['accuracy'])\n",
        "plt.plot(history.history['val_accuracy'])\n",
        "plt.title('model accuracy')\n",
        "plt.ylabel('accuracy')\n",
        "plt.xlabel('epoch')\n",
        "plt.legend(['train', 'test'], loc='upper left')\n",
        "plt.show()\n",
        "# summarize history for loss\n",
        "plt.plot(history.history['loss'])\n",
        "plt.plot(history.history['val_loss'])\n",
        "plt.title('model loss')\n",
        "plt.ylabel('loss')\n",
        "plt.xlabel('epoch')\n",
        "plt.legend(['train', 'test'], loc='upper left')\n",
        "plt.show()"
      ],
      "execution_count": null,
      "outputs": [
        {
          "output_type": "display_data",
          "data": {
            "image/png": "[encoded data removed]",
            "text/plain": [
              "<Figure size 432x288 with 1 Axes>"
            ]
          },
          "metadata": {
            "needs_background": "light"
          }
        },
        {
          "output_type": "display_data",
          "data": {
            "image/png": "[encoded data removed]",
            "text/plain": [
              "<Figure size 432x288 with 1 Axes>"
            ]
          },
          "metadata": {
            "needs_background": "light"
          }
        }
      ]
    },
    {
      "cell_type": "code",
      "metadata": {
        "colab": {
          "base_uri": "https://localhost:8080/"
        },
        "id": "eu3aS1-LRyKd",
        "outputId": "f99345e7-bd20-4b44-f4a9-d48ec77dd29c"
      },
      "source": [
        "from sklearn.metrics import confusion_matrix\n",
        "confusion_matrix(Y_test, yhat_pred)"
      ],
      "execution_count": null,
      "outputs": [
        {
          "output_type": "execute_result",
          "data": {
            "text/plain": [
              "array([[9460,  251],\n",
              "       [5435, 7398]])"
            ]
          },
          "metadata": {},
          "execution_count": 44
        }
      ]
    },
    {
      "cell_type": "code",
      "metadata": {
        "colab": {
          "base_uri": "https://localhost:8080/"
        },
        "id": "IgsMxw4uSMm9",
        "outputId": "c8b046fe-de9c-4aaa-85cf-19ee407c303b"
      },
      "source": [
        "from sklearn.metrics import precision_score, recall_score\n",
        "print(precision_score(Y_test, yhat_pred))\n",
        "print(recall_score(Y_test, yhat_pred))"
      ],
      "execution_count": null,
      "outputs": [
        {
          "output_type": "stream",
          "name": "stdout",
          "text": [
            "0.967185252974245\n",
            "0.5764825060391179\n"
          ]
        }
      ]
    },
    {
      "cell_type": "code",
      "metadata": {
        "colab": {
          "base_uri": "https://localhost:8080/"
        },
        "id": "fY6CG_JPSaAF",
        "outputId": "b807241e-15fe-4e7c-fbc5-e6eb4b5bd40a"
      },
      "source": [
        "from sklearn.metrics import f1_score\n",
        "f1_score(Y_test, yhat_pred)"
      ],
      "execution_count": null,
      "outputs": [
        {
          "output_type": "execute_result",
          "data": {
            "text/plain": [
              "0.7223903915633239"
            ]
          },
          "metadata": {},
          "execution_count": 46
        }
      ]
    },
    {
      "cell_type": "code",
      "metadata": {
        "colab": {
          "base_uri": "https://localhost:8080/",
          "height": 314
        },
        "id": "Og9EWeD0TXNm",
        "outputId": "08aff1a4-07d6-4655-8fa5-5c5c3311ca52"
      },
      "source": [
        "from sklearn.metrics import roc_curve\n",
        "from sklearn.metrics import roc_auc_score\n",
        "\n",
        "ns_probs = [0 for _ in range(len(Y_test))]\n",
        "lr_probs = model.predict(X_test_encode)\n",
        "ns_auc = roc_auc_score(Y_test, ns_probs)\n",
        "lr_auc = roc_auc_score(Y_test, lr_probs)\n",
        "# summarize scores\n",
        "print('No Skill: ROC AUC=%.3f' % (ns_auc))\n",
        "print('Auto Encoder: ROC AUC=%.3f' % (lr_auc))\n",
        "# calculate roc curves\n",
        "ns_fpr, ns_tpr, _ = roc_curve(Y_test, ns_probs)\n",
        "lr_fpr, lr_tpr, _ = roc_curve(Y_test, lr_probs)\n",
        "# plot the roc curve for the model\n",
        "pyplot.plot(ns_fpr, ns_tpr, linestyle='--', label='No Skill')\n",
        "pyplot.plot(lr_fpr, lr_tpr, marker='.', label='Auto Encoder')\n",
        "# axis labels\n",
        "pyplot.xlabel('False Positive Rate')\n",
        "pyplot.ylabel('True Positive Rate')\n",
        "# show the legend\n",
        "pyplot.legend()\n",
        "# show the plot\n",
        "pyplot.show()"
      ],
      "execution_count": null,
      "outputs": [
        {
          "output_type": "stream",
          "name": "stdout",
          "text": [
            "No Skill: ROC AUC=0.500\n",
            "Auto Encoder: ROC AUC=0.792\n"
          ]
        },
        {
          "output_type": "display_data",
          "data": {
            "image/png": "[encoded data removed]",
            "text/plain": [
              "<Figure size 432x288 with 1 Axes>"
            ]
          },
          "metadata": {
            "needs_background": "light"
          }
        }
      ]
    },
    {
      "cell_type": "code",
      "metadata": {
        "colab": {
          "base_uri": "https://localhost:8080/",
          "height": 296
        },
        "id": "FgFw7uDKXN_v",
        "outputId": "78daa778-dda4-431d-9c29-4040497308d6"
      },
      "source": [
        "from sklearn.metrics import precision_recall_curve\n",
        "from sklearn.metrics import f1_score\n",
        "from sklearn.metrics import auc\n",
        "\n",
        "# predict probabilities\n",
        "lr_probs = model.predict(X_test_encode)\n",
        "\n",
        "lr_precision, lr_recall, _ = precision_recall_curve(Y_test, lr_probs)\n",
        "lr_f1, lr_auc = f1_score(Y_test, yhat_pred), auc(lr_recall, lr_precision)\n",
        "# summarize scores\n",
        "print('Auto Encoder: f1=%.3f auc=%.3f' % (lr_f1, lr_auc))\n",
        "# plot the precision-recall curves\n",
        "no_skill = len(Y_test[Y_test==1]) / len(Y_test)\n",
        "pyplot.plot([0, 1], [no_skill, no_skill], linestyle='--', label='No Skill')\n",
        "pyplot.plot(lr_recall, lr_precision, marker='.', label='Auto Encoder')\n",
        "# axis labels\n",
        "pyplot.xlabel('Recall')\n",
        "pyplot.ylabel('Precision')\n",
        "# show the legend\n",
        "pyplot.legend()\n",
        "# show the plot\n",
        "pyplot.show()"
      ],
      "execution_count": null,
      "outputs": [
        {
          "output_type": "stream",
          "name": "stdout",
          "text": [
            "Auto Encoder: f1=0.722 auc=0.881\n"
          ]
        },
        {
          "output_type": "display_data",
          "data": {
            "image/png": "[encoded data removed]",
            "text/plain": [
              "<Figure size 432x288 with 1 Axes>"
            ]
          },
          "metadata": {
            "needs_background": "light"
          }
        }
      ]
    }
  ]
}